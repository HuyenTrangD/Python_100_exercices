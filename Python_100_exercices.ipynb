{
 "cells": [
  {
   "cell_type": "markdown",
   "id": "62b77363",
   "metadata": {},
   "source": [
    "# Niveau Débutant - 33 exercices"
   ]
  },
  {
   "cell_type": "markdown",
   "id": "c7ae1dc5",
   "metadata": {},
   "source": [
    "# DAY 1"
   ]
  },
  {
   "cell_type": "markdown",
   "id": "4cf3651e",
   "metadata": {},
   "source": [
    "## Exercice 1 - print()"
   ]
  },
  {
   "cell_type": "code",
   "execution_count": 1,
   "id": "8fda6659",
   "metadata": {},
   "outputs": [
    {
     "name": "stdout",
     "output_type": "stream",
     "text": [
      "1 France 36.2\n",
      "1\n",
      "France\n",
      "36.2\n"
     ]
    }
   ],
   "source": [
    "# afficher les valeurs des variables\n",
    "a = 1\n",
    "b = \"France\"\n",
    "c = 36.2\n",
    "\n",
    "print(a, b, c)\n",
    "\n",
    "print(a)\n",
    "print(b)\n",
    "print(c)"
   ]
  },
  {
   "cell_type": "markdown",
   "id": "5ac14a71",
   "metadata": {},
   "source": [
    "## Exercice 2"
   ]
  },
  {
   "cell_type": "code",
   "execution_count": 2,
   "id": "6f6b1585",
   "metadata": {},
   "outputs": [
    {
     "name": "stdout",
     "output_type": "stream",
     "text": [
      "ça va\n"
     ]
    }
   ],
   "source": [
    "# afficher le contenu de la variable après modification\n",
    "ch = \"salut\"\n",
    "ch = \"ça va\"\n",
    "\n",
    "print(ch)"
   ]
  },
  {
   "cell_type": "markdown",
   "id": "03c1719d",
   "metadata": {},
   "source": [
    "## Exercice 3 : str() - int() - float() & type()"
   ]
  },
  {
   "cell_type": "code",
   "execution_count": 3,
   "id": "a9ad686f",
   "metadata": {},
   "outputs": [
    {
     "data": {
      "text/plain": [
       "str"
      ]
     },
     "execution_count": 3,
     "metadata": {},
     "output_type": "execute_result"
    }
   ],
   "source": [
    "# afficher le type des variables après conversion en chaîne de caractère\n",
    "x = 3\n",
    "y = 8.5\n",
    "\n",
    "x = str(x) # ou int() float()\n",
    "y = str(y)\n",
    "\n",
    "type(x)\n",
    "type(y)"
   ]
  },
  {
   "cell_type": "markdown",
   "id": "c4905cfb",
   "metadata": {},
   "source": [
    "## Exercice 4 : input(\" \")"
   ]
  },
  {
   "cell_type": "code",
   "execution_count": 4,
   "id": "5a3efee3",
   "metadata": {},
   "outputs": [
    {
     "name": "stdout",
     "output_type": "stream",
     "text": [
      "Combien pesez-vous en kg ? 52\n",
      "Le poids de l'utilisateur est 52 kg.\n"
     ]
    }
   ],
   "source": [
    "# afficher le poids saisi par l'utilisateur\n",
    "poids = input(\"Combien pesez-vous en kg ? \") # type : str\n",
    "print(\"Le poids de l'utilisateur est\", poids, \"kg.\")"
   ]
  },
  {
   "cell_type": "markdown",
   "id": "e1bcad4f",
   "metadata": {},
   "source": [
    "## Exercice 5 : type()"
   ]
  },
  {
   "cell_type": "code",
   "execution_count": 5,
   "id": "1fc74b27",
   "metadata": {},
   "outputs": [
    {
     "name": "stdout",
     "output_type": "stream",
     "text": [
      "Chaîne de caractères\n"
     ]
    }
   ],
   "source": [
    "# afficher \"Entier\" ou \"Chaîne de caractères\" en fonction du type de la variable\n",
    "var = \"Bonjour\"\n",
    "\n",
    "if type(var) == int:\n",
    "    print(\"Entier\")\n",
    "elif type(var) == str:\n",
    "    print(\"Chaîne de caractères\")"
   ]
  },
  {
   "cell_type": "markdown",
   "id": "ea98f281",
   "metadata": {},
   "source": [
    "# DAY 2"
   ]
  },
  {
   "cell_type": "markdown",
   "id": "ab9cfc83",
   "metadata": {},
   "source": [
    "## Exercice 6 - if else"
   ]
  },
  {
   "cell_type": "code",
   "execution_count": 6,
   "id": "88f19ba9",
   "metadata": {},
   "outputs": [
    {
     "name": "stdout",
     "output_type": "stream",
     "text": [
      "Positive\n"
     ]
    }
   ],
   "source": [
    "#  afficher \"Positive\" ou \"Négative\" en fonction de la valeur de la variable\n",
    "d = 5\n",
    "\n",
    "if d >= 0:\n",
    "    print(\"Positive\")\n",
    "else:\n",
    "    print(\"Négative\")"
   ]
  },
  {
   "cell_type": "markdown",
   "id": "17f12fb9",
   "metadata": {},
   "source": [
    "## Exercice 7 : int() & if else"
   ]
  },
  {
   "cell_type": "code",
   "execution_count": 7,
   "id": "efbbb4c1",
   "metadata": {},
   "outputs": [
    {
     "name": "stdout",
     "output_type": "stream",
     "text": [
      "Quel âge avez-vous ? 20\n",
      "L'utilisateur est majeur\n"
     ]
    }
   ],
   "source": [
    "# afficher \"L'utilisateur est majeur\" ou \"L'utilisateur est mineur\" en fonction de l'âge de l'utilisateur\n",
    "age = input(\"Quel âge avez-vous ? \")\n",
    "\n",
    "age = int(age)\n",
    "\n",
    "if age >= 18:\n",
    "    print(\"L'utilisateur est majeur\")\n",
    "else:\n",
    "    print(\"L'utilisateur est mineur\")"
   ]
  },
  {
   "cell_type": "markdown",
   "id": "872a058b",
   "metadata": {},
   "source": [
    "## Exercice 8 : boucle \"for\" & \"while\""
   ]
  },
  {
   "cell_type": "code",
   "execution_count": 8,
   "id": "c673aa00",
   "metadata": {},
   "outputs": [
    {
     "name": "stdout",
     "output_type": "stream",
     "text": [
      "1\n",
      "2\n",
      "3\n",
      "4\n",
      "5\n",
      "6\n",
      "7\n",
      "8\n",
      "9\n",
      "10\n",
      "11\n",
      "12\n",
      "13\n",
      "14\n",
      "15\n",
      "16\n",
      "17\n",
      "18\n",
      "19\n",
      "20\n"
     ]
    }
   ],
   "source": [
    "# afficher les nombres de 1 à 20\n",
    "\n",
    "# la boucle \"for\" permet d'exécuter un semble d'instructions un nombre de fois bien défini, e.g de 1 à 21\n",
    "# la fonction \"range(début, fin, pas)\" fournit une séquence de nombres entiers entre début et fin-1, par défaut le pas est 1\n",
    "\n",
    "for i in range(1,21):\n",
    "    print(i)"
   ]
  },
  {
   "cell_type": "code",
   "execution_count": 9,
   "id": "6b25b427",
   "metadata": {},
   "outputs": [
    {
     "name": "stdout",
     "output_type": "stream",
     "text": [
      "1\n",
      "2\n",
      "3\n",
      "4\n",
      "5\n",
      "6\n",
      "7\n",
      "8\n",
      "9\n",
      "10\n",
      "11\n",
      "12\n",
      "13\n",
      "14\n",
      "15\n",
      "16\n",
      "17\n",
      "18\n",
      "19\n",
      "20\n"
     ]
    }
   ],
   "source": [
    "# la boucle \"while\" permet d'exécuter un semble d'instructions tant qu'une condition est satisfaite\n",
    "compteur = 1\n",
    "\n",
    "while compteur <= 20:\n",
    "    print(compteur)\n",
    "    compteur +=1"
   ]
  },
  {
   "cell_type": "markdown",
   "id": "b1106080",
   "metadata": {},
   "source": [
    "## Exercice 9 : for & nombres impairs"
   ]
  },
  {
   "cell_type": "code",
   "execution_count": 10,
   "id": "a04ba91c",
   "metadata": {},
   "outputs": [
    {
     "name": "stdout",
     "output_type": "stream",
     "text": [
      "11\n",
      "13\n",
      "15\n",
      "17\n",
      "19\n"
     ]
    }
   ],
   "source": [
    "# afficher les nombres impairs entre 10 et 20\n",
    "for i in range(10,20):\n",
    "    if i%2 == 1:\n",
    "        print(i)"
   ]
  },
  {
   "cell_type": "code",
   "execution_count": 11,
   "id": "5e53e457",
   "metadata": {
    "scrolled": true
   },
   "outputs": [
    {
     "name": "stdout",
     "output_type": "stream",
     "text": [
      "11\n",
      "13\n",
      "15\n",
      "17\n",
      "19\n"
     ]
    }
   ],
   "source": [
    "compteur = 10\n",
    "while compteur <= 20:\n",
    "    if compteur%2 == 1:\n",
    "        print(compteur)\n",
    "    compteur +=1"
   ]
  },
  {
   "cell_type": "markdown",
   "id": "64602853",
   "metadata": {},
   "source": [
    "## Exercice 10 : Compréhension de liste"
   ]
  },
  {
   "cell_type": "code",
   "execution_count": 12,
   "id": "f89e6ad4",
   "metadata": {},
   "outputs": [
    {
     "name": "stdout",
     "output_type": "stream",
     "text": [
      "[1, 2, 3, 4, 5, 6, 7, 8, 9, 10]\n"
     ]
    }
   ],
   "source": [
    "# une liste en compréhension permet de créer une liste en une seule expression\n",
    "liste = [i for i in range(1,11)]\n",
    "print(liste)"
   ]
  },
  {
   "cell_type": "markdown",
   "id": "909a1fe9",
   "metadata": {},
   "source": [
    "## Exercice 11 : Compréhension de liste de nombres pairs"
   ]
  },
  {
   "cell_type": "code",
   "execution_count": 13,
   "id": "a1c44ed2",
   "metadata": {},
   "outputs": [
    {
     "name": "stdout",
     "output_type": "stream",
     "text": [
      "[2, 4, 6, 8, 10]\n"
     ]
    }
   ],
   "source": [
    "# créer une compréhension de liste de nombre pairs de 1 à 10\n",
    "liste = [i for i in range(1,11) if i%2 == 0]\n",
    "print(liste)"
   ]
  },
  {
   "cell_type": "markdown",
   "id": "2a00c776",
   "metadata": {},
   "source": [
    "## Exercice 12 : sort() & sort(reverse = True)"
   ]
  },
  {
   "cell_type": "code",
   "execution_count": 14,
   "id": "488725bf",
   "metadata": {},
   "outputs": [
    {
     "name": "stdout",
     "output_type": "stream",
     "text": [
      "[1, 2, 3, 4, 6, 8, 9.2, 12]\n"
     ]
    }
   ],
   "source": [
    "# ordonner les nombres de la liste par ordre croissant\n",
    "L = [6, 8, 3, 4, 1, 12, 2, 9.2]\n",
    "L.sort()\n",
    "print(L)"
   ]
  },
  {
   "cell_type": "code",
   "execution_count": 15,
   "id": "6892b4dd",
   "metadata": {},
   "outputs": [
    {
     "name": "stdout",
     "output_type": "stream",
     "text": [
      "[12, 9.2, 8, 6, 4, 3, 2, 1]\n"
     ]
    }
   ],
   "source": [
    "# ordonner les nombres de la liste par ordre décroissant\n",
    "L = [6, 8, 3, 4, 1, 12, 2, 9.2]\n",
    "L.sort(reverse= True)\n",
    "print(L)"
   ]
  },
  {
   "cell_type": "markdown",
   "id": "e309b944",
   "metadata": {},
   "source": [
    "## Exercice 13 : count()"
   ]
  },
  {
   "cell_type": "code",
   "execution_count": 16,
   "id": "249b9c35",
   "metadata": {},
   "outputs": [
    {
     "name": "stdout",
     "output_type": "stream",
     "text": [
      "2\n"
     ]
    }
   ],
   "source": [
    "# La méthode \"count\" renvoie le nombre d'occurrence d'un élément dans une liste\n",
    "L = [3, 2, 2, 1, 9, 1, 2, 3, 7]\n",
    "print(L.count(1))"
   ]
  },
  {
   "cell_type": "markdown",
   "id": "f2002853",
   "metadata": {},
   "source": [
    "## Exercice 14 : list += & append()"
   ]
  },
  {
   "cell_type": "code",
   "execution_count": 17,
   "id": "59249b8b",
   "metadata": {},
   "outputs": [
    {
     "name": "stdout",
     "output_type": "stream",
     "text": [
      "[10, 25, 30, 45, 90, 'ab', 'cd', 'ef']\n"
     ]
    }
   ],
   "source": [
    "# rajouter des nouveaux éléments à une liste vide\n",
    "L = []\n",
    "L += [10, 25, 30, 45, 90, \"ab\", \"cd\", \"ef\"]\n",
    "print(L)"
   ]
  },
  {
   "cell_type": "code",
   "execution_count": 18,
   "id": "577587a9",
   "metadata": {},
   "outputs": [
    {
     "name": "stdout",
     "output_type": "stream",
     "text": [
      "[10, 25, 30, 45, 90, 'ab', 'cd', 'ef']\n"
     ]
    }
   ],
   "source": [
    "# la méthode \"append\" permet de rajouter 1 élément à la fin d'une liste\n",
    "L = []\n",
    "rajouter = [10, 25, 30, 45, 90, \"ab\", \"cd\", \"ef\"]\n",
    "\n",
    "for i in rajouter:\n",
    "    L.append(i)\n",
    "print(L)"
   ]
  },
  {
   "cell_type": "markdown",
   "id": "6b66a086",
   "metadata": {},
   "source": [
    "## Exercice 15 : len() & append()"
   ]
  },
  {
   "cell_type": "code",
   "execution_count": 19,
   "id": "6ec8c244",
   "metadata": {},
   "outputs": [
    {
     "name": "stdout",
     "output_type": "stream",
     "text": [
      "[1, 4, 7, 10]\n"
     ]
    }
   ],
   "source": [
    "# créer une nouvelle liste L1 qui récupère un élément sur 3 dans la liste L\n",
    "L = [i for i in range(1,11)]\n",
    "\n",
    "L1 = []\n",
    "for i in range(len(L)):\n",
    "    if i%3 == 0:\n",
    "        L1.append(L[i])\n",
    "        \n",
    "print(L1)"
   ]
  },
  {
   "cell_type": "markdown",
   "id": "7172eaf6",
   "metadata": {},
   "source": [
    "# DAY 3"
   ]
  },
  {
   "cell_type": "markdown",
   "id": "3b06cde2",
   "metadata": {},
   "source": [
    "## Exercice 16 - sorted() & join()"
   ]
  },
  {
   "cell_type": "code",
   "execution_count": 20,
   "id": "610de8eb",
   "metadata": {},
   "outputs": [
    {
     "name": "stdout",
     "output_type": "stream",
     "text": [
      "acefnr\n"
     ]
    }
   ],
   "source": [
    "# trier une str en ordre alphabétique\n",
    "c = \"france\"\n",
    "\n",
    "# la fonction \"sorted\" permet d'ordonner les caractèreS de la str par ordre croissant ['a', 'c', 'e', 'f', 'n', 'r']\n",
    "c = sorted(c)\n",
    "\n",
    "# joindre les éléments en liste\n",
    "c = \"\".join(c)\n",
    "\n",
    "print(c)"
   ]
  },
  {
   "cell_type": "code",
   "execution_count": 21,
   "id": "14d4fc5c",
   "metadata": {},
   "outputs": [
    {
     "name": "stdout",
     "output_type": "stream",
     "text": [
      "['r', 'n', 'f', 'e', 'c', 'a']\n"
     ]
    }
   ],
   "source": [
    "c = \"france\"\n",
    "\n",
    "# ordonner la str par ordre décroissant \n",
    "c = sorted(c, reverse = True)\n",
    "\n",
    "print(c)"
   ]
  },
  {
   "cell_type": "markdown",
   "id": "ce4a8aa5",
   "metadata": {},
   "source": [
    "## Exercice 17 : union() & intersection()"
   ]
  },
  {
   "cell_type": "code",
   "execution_count": 22,
   "id": "c00cc0d6",
   "metadata": {},
   "outputs": [
    {
     "name": "stdout",
     "output_type": "stream",
     "text": [
      "[9, 3, 'p', 'b']\n"
     ]
    }
   ],
   "source": [
    "L1 = [9, 8, 7, 14, 3, 2, \"a\", \"p\", \"bonjour\", \"b\"]\n",
    "L2 = [\"b\", 1, 9.2, 6, 3, 9, \"p\"]\n",
    "\n",
    "# combiner L1 & L2 ensuite la méthode \"intersection\" permet d'obtenir les éléments en commun {9, 3, 'p', 'b'}\n",
    "L3 = set(L2).intersection(set(L1))\n",
    "\n",
    "# convertir L3 en liste\n",
    "L3 = list(L3)\n",
    "\n",
    "print(L3)    "
   ]
  },
  {
   "cell_type": "code",
   "execution_count": 23,
   "id": "d054607d",
   "metadata": {},
   "outputs": [
    {
     "name": "stdout",
     "output_type": "stream",
     "text": [
      "{1, 2, 3, 'a', 6, 7, 8, 9, 9.2, 'p', 14, 'b', 'bonjour'}\n"
     ]
    }
   ],
   "source": [
    "# la méthode \"union\" permet de ombiner L1 & L2\n",
    "L1 = [9,8,7,14,3,2,\"a\",\"p\",\"bonjour\",\"b\"]\n",
    "L2 = [\"b\",1,9.2,6,3,9,\"p\"]\n",
    "\n",
    "L3 = set(L1).union(set(L2))\n",
    "\n",
    "print(L3)"
   ]
  },
  {
   "cell_type": "code",
   "execution_count": 24,
   "id": "682d3472",
   "metadata": {},
   "outputs": [
    {
     "name": "stdout",
     "output_type": "stream",
     "text": [
      "{1, 2, 'a', 6, 7, 8, 9.2, 14, 'bonjour'}\n"
     ]
    }
   ],
   "source": [
    "L1 = [9,8,7,14,3,2,\"a\",\"p\",\"bonjour\",\"b\"]\n",
    "L2 = [\"b\",1,9.2,6,3,9,\"p\"]\n",
    "\n",
    "# combiner L1 & L2 ensuite la méthode \"symmetric_difference\" permet d'obtenir les éléments différents\n",
    "L3 = set(L2).symmetric_difference(set(L1))\n",
    "\n",
    "print(L3)"
   ]
  },
  {
   "cell_type": "markdown",
   "id": "8b0859fa",
   "metadata": {},
   "source": [
    "## Exercice 18 : key = lambda x : x"
   ]
  },
  {
   "cell_type": "code",
   "execution_count": 25,
   "id": "785b9157",
   "metadata": {},
   "outputs": [
    {
     "name": "stdout",
     "output_type": "stream",
     "text": [
      "[('Pêche', 2), ('Banane', 8), ('Kiwi', 9), ('Fraise', 12), ('Pomme', 15)]\n"
     ]
    }
   ],
   "source": [
    "# ordonner la liste selon le 2ème élément des tuples\n",
    "L = [(\"Pomme\",15), (\"Banane\",8), (\"Fraise\",12), (\"Kiwi\",9), (\"Pêche\",2)]\n",
    "\n",
    "# paramètre \"key\" permet de spécifier une fonction qui sera utilisée\n",
    "# \"lambda x : x[1]\" : Cette fonction prend un élément x de la liste et renvoie x[1] ou le 2ème élément des tuples\n",
    "L.sort(key = lambda x : x[1])\n",
    "\n",
    "print(L)"
   ]
  },
  {
   "cell_type": "markdown",
   "id": "f63779cd",
   "metadata": {},
   "source": [
    "## Exercice 19 : str[début:fin:pas]"
   ]
  },
  {
   "cell_type": "code",
   "execution_count": 26,
   "id": "b1737526",
   "metadata": {},
   "outputs": [
    {
     "name": "stdout",
     "output_type": "stream",
     "text": [
      "ednom el tuot ruojnoB\n"
     ]
    }
   ],
   "source": [
    "# inverser la str\n",
    "ch = \"Bonjour tout le monde\"\n",
    "\n",
    "# str[début:fin:pas] : ch[::-1] => pas = -1 sans index de début et de fin => inverser la str\n",
    "ch = ch[::-1]\n",
    "\n",
    "print(ch)"
   ]
  },
  {
   "cell_type": "markdown",
   "id": "bf8f8118",
   "metadata": {},
   "source": [
    "## Exercice 20 : dictionnary.keys()"
   ]
  },
  {
   "cell_type": "code",
   "execution_count": 27,
   "id": "0ab34b3b",
   "metadata": {
    "scrolled": true
   },
   "outputs": [
    {
     "name": "stdout",
     "output_type": "stream",
     "text": [
      "3\n",
      "7\n"
     ]
    }
   ],
   "source": [
    "# afficher les valeurs des clés\n",
    "dictionnaire = {\"Pomme\":3, \"Banane\":7, \"Kiwi\":1}\n",
    "\n",
    "print(dictionnaire[\"Pomme\"])\n",
    "print(dictionnaire[\"Banane\"])"
   ]
  },
  {
   "cell_type": "code",
   "execution_count": 28,
   "id": "f8d7e333",
   "metadata": {},
   "outputs": [
    {
     "data": {
      "text/plain": [
       "dict_keys(['Pomme', 'Banane', 'Kiwi'])"
      ]
     },
     "execution_count": 28,
     "metadata": {},
     "output_type": "execute_result"
    }
   ],
   "source": [
    "dictionnaire = {\"Pomme\":3, \"Banane\":7, \"Kiwi\":1}\n",
    "keys = dictionnaire.keys()\n",
    "keys"
   ]
  },
  {
   "cell_type": "markdown",
   "id": "272216d8",
   "metadata": {},
   "source": [
    "## Exercice 21 : sum & dictionnary.values()"
   ]
  },
  {
   "cell_type": "code",
   "execution_count": 29,
   "id": "d0e837c2",
   "metadata": {},
   "outputs": [
    {
     "data": {
      "text/plain": [
       "46"
      ]
     },
     "execution_count": 29,
     "metadata": {},
     "output_type": "execute_result"
    }
   ],
   "source": [
    "dictionnaire = {\"Pomme\":15, \"Banane\":8, \"Fraise\":12, \"Kiwi\":9, \"Pêche\":2}\n",
    "\n",
    "# sommer les valeurs du dictionnaire\n",
    "somme = sum(dictionnaire.values())\n",
    "somme"
   ]
  },
  {
   "cell_type": "markdown",
   "id": "fa07f263",
   "metadata": {},
   "source": [
    "## Exercice 22  - round() & format()"
   ]
  },
  {
   "cell_type": "code",
   "execution_count": 30,
   "id": "1ca9cd8e",
   "metadata": {},
   "outputs": [
    {
     "data": {
      "text/plain": [
       "187.63"
      ]
     },
     "execution_count": 30,
     "metadata": {},
     "output_type": "execute_result"
    }
   ],
   "source": [
    "n = 187.632587\n",
    "n = round(n,2)\n",
    "n"
   ]
  },
  {
   "cell_type": "code",
   "execution_count": 31,
   "id": "a7f227f3",
   "metadata": {},
   "outputs": [
    {
     "data": {
      "text/plain": [
       "187.63"
      ]
     },
     "execution_count": 31,
     "metadata": {},
     "output_type": "execute_result"
    }
   ],
   "source": [
    "n = 187.632587\n",
    "\n",
    "# la méthode \"format\" permet de formater \n",
    "# {:.2f} => garder 2 chiffres après la virgule\n",
    "n = float(\"{:.2f}\".format(n))\n",
    "n"
   ]
  },
  {
   "cell_type": "markdown",
   "id": "0c723001",
   "metadata": {},
   "source": [
    "## Exercice 23 - f\"...{}\""
   ]
  },
  {
   "cell_type": "code",
   "execution_count": 32,
   "id": "256371e8",
   "metadata": {},
   "outputs": [
    {
     "data": {
      "text/plain": [
       "\"Je m'appelle Julien et j'ai 32 ans. J'apprends le langage Python.\""
      ]
     },
     "execution_count": 32,
     "metadata": {},
     "output_type": "execute_result"
    }
   ],
   "source": [
    "monNom = \"Julien\"\n",
    "age = 32\n",
    "nomLangage = \"Python\"\n",
    "\n",
    "chaine = f\"Je m'appelle {monNom} et j'ai {age} ans. J'apprends le langage {nomLangage}.\"\n",
    "chaine"
   ]
  },
  {
   "cell_type": "code",
   "execution_count": 33,
   "id": "1546e811",
   "metadata": {},
   "outputs": [
    {
     "data": {
      "text/plain": [
       "\"Je m'appelle Julien et j'ai 32 ans. J'apprends le langage Python.\""
      ]
     },
     "execution_count": 33,
     "metadata": {},
     "output_type": "execute_result"
    }
   ],
   "source": [
    "monNom = \"Julien\"\n",
    "age = 32\n",
    "nomLangage = \"Python\"\n",
    "\n",
    "chaine = f\"Je m'appelle {monNom} et j'ai {age} ans. J'apprends le langage {nomLangage}.\".format(monNom, age, nomLangage)\n",
    "chaine"
   ]
  },
  {
   "cell_type": "markdown",
   "id": "98b19c81",
   "metadata": {},
   "source": [
    "## Exercice 24 - Table de multiplication \"8 x\", i,\"=\", 8*i"
   ]
  },
  {
   "cell_type": "code",
   "execution_count": 34,
   "id": "192d4506",
   "metadata": {},
   "outputs": [
    {
     "name": "stdout",
     "output_type": "stream",
     "text": [
      "8 x 0 = 0\n",
      "8 x 1 = 8\n",
      "8 x 2 = 16\n",
      "8 x 3 = 24\n",
      "8 x 4 = 32\n",
      "8 x 5 = 40\n",
      "8 x 6 = 48\n",
      "8 x 7 = 56\n",
      "8 x 8 = 64\n",
      "8 x 9 = 72\n",
      "8 x 10 = 80\n"
     ]
    }
   ],
   "source": [
    "for i in range(0,11):    \n",
    "    print(\"8 x\", i,\"=\", 8*i)"
   ]
  },
  {
   "cell_type": "markdown",
   "id": "64b0b8aa",
   "metadata": {},
   "source": [
    "## Exercice 25 - os & getcwd()"
   ]
  },
  {
   "cell_type": "code",
   "execution_count": 35,
   "id": "9ef90f54",
   "metadata": {},
   "outputs": [
    {
     "name": "stdout",
     "output_type": "stream",
     "text": [
      "C:\\Users\\huyen\n"
     ]
    }
   ],
   "source": [
    "# os = operating system/ système d'exploitation & getcwd = get current working directory/obtenir le répertoire de travail actuel\n",
    "\n",
    "# le module \"os\" permet de manipuler les fichiers et répertoires, gérer les processus\n",
    "import os\n",
    "print(os.getcwd())"
   ]
  },
  {
   "cell_type": "markdown",
   "id": "f689e174",
   "metadata": {},
   "source": [
    "# DAY 4"
   ]
  },
  {
   "cell_type": "markdown",
   "id": "9238ce56",
   "metadata": {},
   "source": [
    "## Exercice 26 - remove(value)"
   ]
  },
  {
   "cell_type": "code",
   "execution_count": 36,
   "id": "39f6e18b",
   "metadata": {},
   "outputs": [
    {
     "data": {
      "text/plain": [
       "[2, 3, 4, 5]"
      ]
     },
     "execution_count": 36,
     "metadata": {},
     "output_type": "execute_result"
    }
   ],
   "source": [
    "# supprimer 1 de la liste\n",
    "L = [1, 2, 3, 4, 5]\n",
    "L.remove(1)\n",
    "L"
   ]
  },
  {
   "cell_type": "markdown",
   "id": "2716eec5",
   "metadata": {},
   "source": [
    "## Exercice 27 - import os & os.path.basename(file_path) & split()"
   ]
  },
  {
   "cell_type": "code",
   "execution_count": 37,
   "id": "721bddf7",
   "metadata": {},
   "outputs": [
    {
     "data": {
      "text/plain": [
       "'ipynb'"
      ]
     },
     "execution_count": 37,
     "metadata": {},
     "output_type": "execute_result"
    }
   ],
   "source": [
    "# obtenir l'extension d'un fichier\n",
    "import os\n",
    "\n",
    "# récupérer le chemin du fichier dans Propriétés -> Sécurité -> Nom de l'objet\n",
    "file_path = r'C:\\Users\\huyen\\Python_100_exercices_Niveau Débutant.ipynb'\n",
    "\n",
    "# la fonction \"basename\" permet d'obtenir le nom de base => Python_100_exercices_Niveau Débutant.ipynb'\n",
    "nom_fichier = os.path.basename(file_path)\n",
    "\n",
    "# la méthode \"split\" permet de convertir en str et séparer des éléments par le séparateur\n",
    "# l'extension est l'élément après le dernier point \".\"\n",
    "extension = nom_fichier.split(\".\")[-1]\n",
    "extension"
   ]
  },
  {
   "cell_type": "markdown",
   "id": "26ca610f",
   "metadata": {},
   "source": [
    "## Exercice 28 - import time & time.time()"
   ]
  },
  {
   "cell_type": "code",
   "execution_count": 38,
   "id": "79e50a25",
   "metadata": {
    "scrolled": true
   },
   "outputs": [
    {
     "name": "stdout",
     "output_type": "stream",
     "text": [
      "8 x 0 = 0\n",
      "8 x 1 = 8\n",
      "8 x 2 = 16\n",
      "8 x 3 = 24\n",
      "8 x 4 = 32\n",
      "8 x 5 = 40\n",
      "8 x 6 = 48\n",
      "8 x 7 = 56\n",
      "8 x 8 = 64\n",
      "8 x 9 = 72\n",
      "8 x 10 = 80\n",
      "Temps d'exécution du code : 0.0009951591\n"
     ]
    }
   ],
   "source": [
    "# calculer le temps d'exécution de l'exercice 24\n",
    "import time\n",
    "\n",
    "debut = time.time()\n",
    "\n",
    "for i in range(0,11):    \n",
    "    print(\"8 x\", i,\"=\", 8*i)\n",
    "    \n",
    "fin = time.time()\n",
    "\n",
    "print(\"Temps d'exécution du code :\", \"{:.10f}\".format(fin-debut))"
   ]
  },
  {
   "cell_type": "markdown",
   "id": "8a05442f",
   "metadata": {},
   "source": [
    "## Exercice 29 - import random & random.shuffle()"
   ]
  },
  {
   "cell_type": "code",
   "execution_count": 39,
   "id": "e55291f7",
   "metadata": {},
   "outputs": [
    {
     "data": {
      "text/plain": [
       "[3, 7, 6, 'd', 's', 'ch', 8, 2]"
      ]
     },
     "execution_count": 39,
     "metadata": {},
     "output_type": "execute_result"
    }
   ],
   "source": [
    "# mélanger les éléments d'une liste\n",
    "import random\n",
    "\n",
    "L = [3, 6, 8, 7, 2,\"s\",\"ch\",\"d\"]\n",
    "\n",
    "random.shuffle(L)\n",
    "L"
   ]
  },
  {
   "cell_type": "markdown",
   "id": "1ed8de8a",
   "metadata": {},
   "source": [
    "## Exercice 30 - random.randint()"
   ]
  },
  {
   "cell_type": "code",
   "execution_count": 40,
   "id": "86cc2f18",
   "metadata": {},
   "outputs": [
    {
     "data": {
      "text/plain": [
       "29"
      ]
     },
     "execution_count": 40,
     "metadata": {},
     "output_type": "execute_result"
    }
   ],
   "source": [
    "# générer un nombre aléatoirement\n",
    "import random\n",
    "\n",
    "nombre = random.randint(20,30)\n",
    "nombre"
   ]
  },
  {
   "cell_type": "markdown",
   "id": "c2c5abce",
   "metadata": {},
   "source": [
    "## Exercice 31 - 2 boucles for & end"
   ]
  },
  {
   "cell_type": "code",
   "execution_count": 41,
   "id": "29afcae8",
   "metadata": {
    "scrolled": true
   },
   "outputs": [
    {
     "name": "stdout",
     "output_type": "stream",
     "text": [
      "5 6 7 8 9 10 11 12 13 14 15 16 17 18 19 20 \n",
      "5 6 7 8 9 10 11 12 13 14 15 16 17 18 19 20 \n",
      "5 6 7 8 9 10 11 12 13 14 15 16 17 18 19 20 \n",
      "5 6 7 8 9 10 11 12 13 14 15 16 17 18 19 20 \n",
      "5 6 7 8 9 10 11 12 13 14 15 16 17 18 19 20 \n",
      "5 6 7 8 9 10 11 12 13 14 15 16 17 18 19 20 \n",
      "5 6 7 8 9 10 11 12 13 14 15 16 17 18 19 20 \n",
      "5 6 7 8 9 10 11 12 13 14 15 16 17 18 19 20 \n"
     ]
    }
   ],
   "source": [
    "# répéter un semble de nombres un nombre de fois défini\n",
    "# le paramètre \"end\" = \"\\n\" par défaut\n",
    "# l'instructionn \"print()\" permet de retourner à la ligne\n",
    "\n",
    "for i in range(8):\n",
    "    for j in range(5, 21):\n",
    "        print(j, end = \" \")\n",
    "    print()"
   ]
  },
  {
   "cell_type": "markdown",
   "id": "4cdad81b",
   "metadata": {},
   "source": [
    "## Exercice 32 - Compréhension de liste"
   ]
  },
  {
   "cell_type": "code",
   "execution_count": 42,
   "id": "5ce00132",
   "metadata": {},
   "outputs": [
    {
     "data": {
      "text/plain": [
       "[3, 6, 9, 12, 15, 18, 21, 24]"
      ]
     },
     "execution_count": 42,
     "metadata": {},
     "output_type": "execute_result"
    }
   ],
   "source": [
    "# L1 est une liste de nombres de L divisables par 3\n",
    "L = [3, 6, 9, 12, 15, 18, 21, 24]\n",
    "\n",
    "L1 = [i for i in L if i%3 == 0]\n",
    "L1"
   ]
  },
  {
   "cell_type": "code",
   "execution_count": 43,
   "id": "e34e9205",
   "metadata": {},
   "outputs": [
    {
     "data": {
      "text/plain": [
       "[1.0, 2.0, 3.0, 4.0, 5.0, 6.0, 7.0, 8.0]"
      ]
     },
     "execution_count": 43,
     "metadata": {},
     "output_type": "execute_result"
    }
   ],
   "source": [
    "# L1 est le résultat de la division des nombres de L par 3\n",
    "L = [3, 6, 9, 12, 15, 18, 21, 24]\n",
    "\n",
    "L1 = [i/3 for i in L]\n",
    "L1"
   ]
  },
  {
   "cell_type": "markdown",
   "id": "786c1622",
   "metadata": {},
   "source": [
    "## Exercice 33 - if i > 0"
   ]
  },
  {
   "cell_type": "code",
   "execution_count": 44,
   "id": "b7c5e649",
   "metadata": {},
   "outputs": [
    {
     "data": {
      "text/plain": [
       "[5, 2, 8]"
      ]
     },
     "execution_count": 44,
     "metadata": {},
     "output_type": "execute_result"
    }
   ],
   "source": [
    "# L1 contient les nombres positifs de L\n",
    "L = [-6,5,-3,-1,2,8,-3.6]\n",
    "\n",
    "L1 = [i for i in L if i > 0]\n",
    "L1"
   ]
  },
  {
   "cell_type": "markdown",
   "id": "27f9f133",
   "metadata": {},
   "source": [
    "# Niveau Intermédiaire - 43 exercices"
   ]
  },
  {
   "cell_type": "markdown",
   "id": "06a3670c",
   "metadata": {},
   "source": [
    "## Exercice 34 - def nom_fonction(par1, par2, par3)"
   ]
  },
  {
   "cell_type": "code",
   "execution_count": 45,
   "id": "8087ab85",
   "metadata": {},
   "outputs": [
    {
     "data": {
      "text/plain": [
       "9"
      ]
     },
     "execution_count": 45,
     "metadata": {},
     "output_type": "execute_result"
    }
   ],
   "source": [
    "# créer un fonction\n",
    "def f(a, b, x):\n",
    "    return a*(x**3) + 2*a*(x**2) + b\n",
    "\n",
    "f(3,0,1)"
   ]
  },
  {
   "cell_type": "code",
   "execution_count": 46,
   "id": "8d4e2ad2",
   "metadata": {},
   "outputs": [
    {
     "data": {
      "text/plain": [
       "2"
      ]
     },
     "execution_count": 46,
     "metadata": {},
     "output_type": "execute_result"
    }
   ],
   "source": [
    "f(0,2,2)"
   ]
  },
  {
   "cell_type": "markdown",
   "id": "55a3a882",
   "metadata": {},
   "source": [
    "## Exercice 35 - def & if else"
   ]
  },
  {
   "cell_type": "code",
   "execution_count": 47,
   "id": "de892280",
   "metadata": {},
   "outputs": [
    {
     "name": "stdout",
     "output_type": "stream",
     "text": [
      "True\n"
     ]
    }
   ],
   "source": [
    "def VerifPresence(a, L):\n",
    "    if a in L:\n",
    "        print(\"True\")\n",
    "    else:\n",
    "        print(\"False\")\n",
    "        \n",
    "VerifPresence(2,[1,2,3,4,5,6])            "
   ]
  },
  {
   "cell_type": "code",
   "execution_count": 48,
   "id": "bbdf57d3",
   "metadata": {},
   "outputs": [
    {
     "name": "stdout",
     "output_type": "stream",
     "text": [
      "False\n"
     ]
    }
   ],
   "source": [
    "VerifPresence(-1,[3,6,9,7,\"abcr\"])"
   ]
  },
  {
   "cell_type": "markdown",
   "id": "b91e82c9",
   "metadata": {},
   "source": [
    "## Exercice 36 - def & for"
   ]
  },
  {
   "cell_type": "code",
   "execution_count": 49,
   "id": "ab562113",
   "metadata": {},
   "outputs": [
    {
     "name": "stdout",
     "output_type": "stream",
     "text": [
      "12\n"
     ]
    }
   ],
   "source": [
    "# calculer la somme des chiffres d'un nombre\n",
    "\n",
    "def sum(nombre):\n",
    "    nombre = str(nombre) # convertir int en str\n",
    "\n",
    "    somme = 0\n",
    "    for chiffre in nombre:\n",
    "        somme += int(chiffre) # additioner les chiffres en entier\n",
    "\n",
    "    print(somme)\n",
    "\n",
    "# test 1\n",
    "sum(3018)"
   ]
  },
  {
   "cell_type": "code",
   "execution_count": 50,
   "id": "aed7c070",
   "metadata": {},
   "outputs": [
    {
     "name": "stdout",
     "output_type": "stream",
     "text": [
      "14\n"
     ]
    }
   ],
   "source": [
    "# test 2\n",
    "sum(149)"
   ]
  },
  {
   "cell_type": "markdown",
   "id": "9e43a46c",
   "metadata": {},
   "source": [
    "# DAY 5"
   ]
  },
  {
   "cell_type": "markdown",
   "id": "36fc523e",
   "metadata": {},
   "source": [
    "## Exercice 37 - def calculSomme(L)"
   ]
  },
  {
   "cell_type": "code",
   "execution_count": 51,
   "id": "0fe10f59",
   "metadata": {},
   "outputs": [
    {
     "data": {
      "text/plain": [
       "24"
      ]
     },
     "execution_count": 51,
     "metadata": {},
     "output_type": "execute_result"
    }
   ],
   "source": [
    "# créer une fonction qui permet de calculer la somme des nombres d'une liste\n",
    "\n",
    "def calculSomme(L):\n",
    "    \n",
    "    somme = 0\n",
    "    for i in L:\n",
    "        somme += i        \n",
    "        \n",
    "    return somme\n",
    "\n",
    "calculSomme([3,2,6,9,-1,5])"
   ]
  },
  {
   "cell_type": "code",
   "execution_count": 52,
   "id": "9417f86f",
   "metadata": {},
   "outputs": [
    {
     "data": {
      "text/plain": [
       "1"
      ]
     },
     "execution_count": 52,
     "metadata": {},
     "output_type": "execute_result"
    }
   ],
   "source": [
    "calculSomme([-3,-6,0,1,2,7])"
   ]
  },
  {
   "cell_type": "markdown",
   "id": "cee56f44",
   "metadata": {},
   "source": [
    "## Exercice 38 - def supprimerDoublons(L)"
   ]
  },
  {
   "cell_type": "code",
   "execution_count": 53,
   "id": "8a0f7abe",
   "metadata": {},
   "outputs": [
    {
     "data": {
      "text/plain": [
       "[-1, 0, 1, 3, 5, 7]"
      ]
     },
     "execution_count": 53,
     "metadata": {},
     "output_type": "execute_result"
    }
   ],
   "source": [
    "# créer une fonction qui permet de supprimer les doublons de nombres d'une liste\n",
    "\n",
    "def supprimerDoublons(L):\n",
    "    \n",
    "    for i in L:\n",
    "        count = L.count(i)        \n",
    "        if count >= 2:\n",
    "            for j in range(count-1): # garder un seul chiffre\n",
    "                L.remove(i)\n",
    "    L.sort() # trier par ordre croissant           \n",
    "    return L\n",
    "\n",
    "supprimerDoublons([0, 3, 5, 7, 3, 5, 1,-1])"
   ]
  },
  {
   "cell_type": "code",
   "execution_count": 54,
   "id": "909f43aa",
   "metadata": {},
   "outputs": [
    {
     "data": {
      "text/plain": [
       "[-3, 0, 1, 3.2, 5, 9, 10]"
      ]
     },
     "execution_count": 54,
     "metadata": {},
     "output_type": "execute_result"
    }
   ],
   "source": [
    "supprimerDoublons([0, 5, 9, 10, 3.2, 1, -3])"
   ]
  },
  {
   "cell_type": "markdown",
   "id": "051986cf",
   "metadata": {},
   "source": [
    "## Exercice 39 - def ajoutElementDict(cle, valeur, d)"
   ]
  },
  {
   "cell_type": "code",
   "execution_count": 55,
   "id": "91f5a286",
   "metadata": {},
   "outputs": [
    {
     "data": {
      "text/plain": [
       "{'julien': 14, 'laurent': 31, 'baptiste': 29}"
      ]
     },
     "execution_count": 55,
     "metadata": {},
     "output_type": "execute_result"
    }
   ],
   "source": [
    "# créer une fonction qui permet de rajouter des nouveaux éléments à un dictionnaire\n",
    "\n",
    "def ajoutElementDict(cle, valeur, d):\n",
    "    d[cle] = valeur # associer une \"clé\" à une \"valeur\"\n",
    "    return d\n",
    "    \n",
    "ajoutElementDict(\"baptiste\", 29, {\"julien\":14, \"laurent\":31})"
   ]
  },
  {
   "cell_type": "code",
   "execution_count": 56,
   "id": "1b108ace",
   "metadata": {},
   "outputs": [
    {
     "data": {
      "text/plain": [
       "{'poids': 65.3}"
      ]
     },
     "execution_count": 56,
     "metadata": {},
     "output_type": "execute_result"
    }
   ],
   "source": [
    "ajoutElementDict(\"poids\", 65.3, {})"
   ]
  },
  {
   "cell_type": "markdown",
   "id": "35e241af",
   "metadata": {},
   "source": [
    "## Exercice 40 - def maximum(L) = max()"
   ]
  },
  {
   "cell_type": "code",
   "execution_count": 57,
   "id": "39a72121",
   "metadata": {},
   "outputs": [
    {
     "data": {
      "text/plain": [
       "8"
      ]
     },
     "execution_count": 57,
     "metadata": {},
     "output_type": "execute_result"
    }
   ],
   "source": [
    "# créer une fonction qui permet de renvoyer le plus grand nombre d'une liste \n",
    "\n",
    "def maximum(L):\n",
    "    \n",
    "    max_L = L[0]\n",
    "    \n",
    "    for i in L:\n",
    "        if i > max_L:\n",
    "            max_L = i\n",
    "    return max_L\n",
    "\n",
    "maximum([-9,2,4,1,8])"
   ]
  },
  {
   "cell_type": "code",
   "execution_count": 58,
   "id": "368f93ee",
   "metadata": {},
   "outputs": [
    {
     "data": {
      "text/plain": [
       "7"
      ]
     },
     "execution_count": 58,
     "metadata": {},
     "output_type": "execute_result"
    }
   ],
   "source": [
    "maximum([-3,1,7,6,2,3])"
   ]
  },
  {
   "cell_type": "markdown",
   "id": "064937a8",
   "metadata": {},
   "source": [
    "## Exercice 41 - def sommeSousListe(L,i,j)"
   ]
  },
  {
   "cell_type": "code",
   "execution_count": 59,
   "id": "2cde2c09",
   "metadata": {},
   "outputs": [
    {
     "data": {
      "text/plain": [
       "46"
      ]
     },
     "execution_count": 59,
     "metadata": {},
     "output_type": "execute_result"
    }
   ],
   "source": [
    "# créer une fonction qui permet de calculer la somme des nombres de l'index i à l'index j d'une liste\n",
    "\n",
    "def sommeSousListe(L,i,j):\n",
    "    \n",
    "    # L'ajout de  dans L[i:j+1] pour s'assurer que l'élément situé à l'indice j est inclus dans la sous-liste.\n",
    "    # Sans \"+1\", la sous-liste s'arrêterait à l'indice j-1.\n",
    "    sous_liste = L[i:j+1] \n",
    "    \n",
    "    somme = 0\n",
    "    for i in sous_liste :\n",
    "        somme += i\n",
    "        \n",
    "    return somme\n",
    "\n",
    "sommeSousListe([4,10,12,16,18],2,4)"
   ]
  },
  {
   "cell_type": "code",
   "execution_count": 60,
   "id": "985b8450",
   "metadata": {},
   "outputs": [
    {
     "data": {
      "text/plain": [
       "12"
      ]
     },
     "execution_count": 60,
     "metadata": {},
     "output_type": "execute_result"
    }
   ],
   "source": [
    "sommeSousListe([2,4,6,8,10,12],0,2)"
   ]
  },
  {
   "cell_type": "markdown",
   "id": "1ad51f80",
   "metadata": {},
   "source": [
    "## Exercice 42 - Création de motif"
   ]
  },
  {
   "cell_type": "code",
   "execution_count": 61,
   "id": "1ce5760a",
   "metadata": {},
   "outputs": [
    {
     "name": "stdout",
     "output_type": "stream",
     "text": [
      "*\n",
      "**\n",
      "****\n",
      "******\n",
      "********\n",
      "**********\n"
     ]
    }
   ],
   "source": [
    "for i in range(1, 11):\n",
    "    if i == 1 or i%2 == 0 :\n",
    "        print(i * \"*\")"
   ]
  },
  {
   "cell_type": "markdown",
   "id": "46fe717a",
   "metadata": {},
   "source": [
    "## Exercice 43 - def minimum(L) = min()"
   ]
  },
  {
   "cell_type": "code",
   "execution_count": 62,
   "id": "14c28b19",
   "metadata": {},
   "outputs": [
    {
     "data": {
      "text/plain": [
       "-9"
      ]
     },
     "execution_count": 62,
     "metadata": {},
     "output_type": "execute_result"
    }
   ],
   "source": [
    "# créer une fonction qui permet de renvoyer le plus petit nombre d'une liste\n",
    "\n",
    "def minimum(L):\n",
    "    \n",
    "    min_L = L[0]    \n",
    "    for i in L:\n",
    "        if i < min_L:\n",
    "            min_L = i\n",
    "    return min_L\n",
    "\n",
    "minimum([-9,2,4,1,8])"
   ]
  },
  {
   "cell_type": "code",
   "execution_count": 63,
   "id": "4f6886f6",
   "metadata": {},
   "outputs": [
    {
     "data": {
      "text/plain": [
       "-3"
      ]
     },
     "execution_count": 63,
     "metadata": {},
     "output_type": "execute_result"
    }
   ],
   "source": [
    "minimum([-3,1,7,6,2,3])"
   ]
  },
  {
   "cell_type": "markdown",
   "id": "ed1f0618",
   "metadata": {},
   "source": [
    "## Exercice 44 - def longueur(L) = len()"
   ]
  },
  {
   "cell_type": "code",
   "execution_count": 64,
   "id": "078ea2d1",
   "metadata": {},
   "outputs": [
    {
     "data": {
      "text/plain": [
       "6"
      ]
     },
     "execution_count": 64,
     "metadata": {},
     "output_type": "execute_result"
    }
   ],
   "source": [
    "# créer une fonction qui permet de compter le nombre des éléments d'une liste\n",
    "\n",
    "def longueur(L):\n",
    "    \n",
    "    length_L = 0 # initialiser à 0    \n",
    "    \n",
    "    for i in L:\n",
    "        length_L += 1        \n",
    "    return length_L\n",
    "\n",
    "longueur([3, 6, 7, \"abde\", [1,3,57], True])"
   ]
  },
  {
   "cell_type": "code",
   "execution_count": 65,
   "id": "58a23d26",
   "metadata": {},
   "outputs": [
    {
     "data": {
      "text/plain": [
       "0"
      ]
     },
     "execution_count": 65,
     "metadata": {},
     "output_type": "execute_result"
    }
   ],
   "source": [
    "longueur([])"
   ]
  },
  {
   "cell_type": "markdown",
   "id": "208c3e41",
   "metadata": {},
   "source": [
    "## Exercice 45 - def moyenneListe(L)"
   ]
  },
  {
   "cell_type": "code",
   "execution_count": 66,
   "id": "d6df3c74",
   "metadata": {},
   "outputs": [
    {
     "data": {
      "text/plain": [
       "4.0"
      ]
     },
     "execution_count": 66,
     "metadata": {},
     "output_type": "execute_result"
    }
   ],
   "source": [
    "# créer une fonction qui permet de calculer la moyenne des nombres d'une liste\n",
    "\n",
    "def moyenneListe(L):\n",
    "    somme = 0\n",
    "    \n",
    "    for i in L:\n",
    "        somme += i\n",
    "        moyenne = somme/len(L)\n",
    "        \n",
    "    return moyenne\n",
    "\n",
    "moyenneListe([1,2,3,4,5,6,7])"
   ]
  },
  {
   "cell_type": "code",
   "execution_count": 67,
   "id": "c96a611d",
   "metadata": {},
   "outputs": [
    {
     "data": {
      "text/plain": [
       "5.571428571428571"
      ]
     },
     "execution_count": 67,
     "metadata": {},
     "output_type": "execute_result"
    }
   ],
   "source": [
    "moyenneListe([3,0,-1,5,6,9,17])"
   ]
  },
  {
   "cell_type": "markdown",
   "id": "4e6ae95e",
   "metadata": {},
   "source": [
    "## Exercice 46 - def diviseur(n)"
   ]
  },
  {
   "cell_type": "code",
   "execution_count": 68,
   "id": "67575e50",
   "metadata": {},
   "outputs": [
    {
     "data": {
      "text/plain": [
       "[1, 3]"
      ]
     },
     "execution_count": 68,
     "metadata": {},
     "output_type": "execute_result"
    }
   ],
   "source": [
    "# créer une fonction qui permet de renvoyer une liste de diviseurs d'un nombre entier positif\n",
    "\n",
    "def diviseur(n):\n",
    "    \n",
    "    liste = []\n",
    "    \n",
    "    for diviseur_n in range(1, n+1):            \n",
    "        if n%diviseur_n == 0:\n",
    "            liste.append(diviseur_n)\n",
    "        \n",
    "    return liste\n",
    "\n",
    "diviseur(3)"
   ]
  },
  {
   "cell_type": "code",
   "execution_count": 69,
   "id": "916fd36f",
   "metadata": {},
   "outputs": [
    {
     "data": {
      "text/plain": [
       "[1, 3, 9]"
      ]
     },
     "execution_count": 69,
     "metadata": {},
     "output_type": "execute_result"
    }
   ],
   "source": [
    "diviseur(9)"
   ]
  },
  {
   "cell_type": "markdown",
   "id": "0191fd03",
   "metadata": {},
   "source": [
    "## Exercice 47 - def verifMaj(phrase)"
   ]
  },
  {
   "cell_type": "code",
   "execution_count": 70,
   "id": "d858854b",
   "metadata": {},
   "outputs": [
    {
     "data": {
      "text/plain": [
       "True"
      ]
     },
     "execution_count": 70,
     "metadata": {},
     "output_type": "execute_result"
    }
   ],
   "source": [
    "# créer une fonction qui permet de vérifier si une lettre est majuscule\n",
    "\n",
    "def verifMaj(phrase):\n",
    "    \n",
    "    for lettre in phrase:        \n",
    "        if lettre.isupper(): # islower() pour vérifier si c'est minuscule\n",
    "            return True\n",
    "    return False\n",
    "\n",
    "verifMaj(\"Les légumes sont bons pour la santé.\")"
   ]
  },
  {
   "cell_type": "code",
   "execution_count": 71,
   "id": "968aeec1",
   "metadata": {},
   "outputs": [
    {
     "data": {
      "text/plain": [
       "False"
      ]
     },
     "execution_count": 71,
     "metadata": {},
     "output_type": "execute_result"
    }
   ],
   "source": [
    "verifMaj(\"j'apprendre le langage python.\")"
   ]
  },
  {
   "cell_type": "markdown",
   "id": "6bdadc84",
   "metadata": {},
   "source": [
    "## Exercice 48 - def concatListe(L1, L2,L3)"
   ]
  },
  {
   "cell_type": "code",
   "execution_count": 72,
   "id": "52577d11",
   "metadata": {},
   "outputs": [
    {
     "data": {
      "text/plain": [
       "[0, 9, 8, 2, 6, 9, True, False, 'abc']"
      ]
     },
     "execution_count": 72,
     "metadata": {},
     "output_type": "execute_result"
    }
   ],
   "source": [
    "# créer une fonction qui permet de concaténer des listes en une liste\n",
    "\n",
    "def concatListe(L1, L2,L3):\n",
    "    L1 += L2\n",
    "    L1 += L3\n",
    "    return L1\n",
    "\n",
    "concatListe([0,9,8], [2,6,9], [True, False, \"abc\"])"
   ]
  },
  {
   "cell_type": "code",
   "execution_count": 73,
   "id": "de53535e",
   "metadata": {},
   "outputs": [
    {
     "data": {
      "text/plain": [
       "[[38, -1], 3, -9, 'xz', 'France']"
      ]
     },
     "execution_count": 73,
     "metadata": {},
     "output_type": "execute_result"
    }
   ],
   "source": [
    "concatListe([[38,-1],3,-9], [\"xz\", \"France\"], [])"
   ]
  },
  {
   "cell_type": "code",
   "execution_count": 74,
   "id": "fb97ff24",
   "metadata": {},
   "outputs": [
    {
     "data": {
      "text/plain": [
       "[0, 9, 8, 2, 6, 9, True, False, 'abc']"
      ]
     },
     "execution_count": 74,
     "metadata": {},
     "output_type": "execute_result"
    }
   ],
   "source": [
    "def concatListe(L1, L2,L3):\n",
    "    L = L1 + L2 + L3\n",
    "    return L\n",
    "\n",
    "concatListe([0,9,8], [2,6,9], [True, False, \"abc\"])"
   ]
  },
  {
   "cell_type": "code",
   "execution_count": 75,
   "id": "1afab0c5",
   "metadata": {},
   "outputs": [
    {
     "data": {
      "text/plain": [
       "[[38, -1], 3, -9, 'xz', 'France']"
      ]
     },
     "execution_count": 75,
     "metadata": {},
     "output_type": "execute_result"
    }
   ],
   "source": [
    "concatListe([[38,-1],3,-9], [\"xz\", \"France\"], [])"
   ]
  },
  {
   "cell_type": "markdown",
   "id": "3c5f984a",
   "metadata": {},
   "source": [
    "## Exercice 49 - def nbrValeurDict(d)"
   ]
  },
  {
   "cell_type": "code",
   "execution_count": 76,
   "id": "bd1e5c7f",
   "metadata": {},
   "outputs": [
    {
     "data": {
      "text/plain": [
       "6"
      ]
     },
     "execution_count": 76,
     "metadata": {},
     "output_type": "execute_result"
    }
   ],
   "source": [
    "# créer une fonction qui permet de compter le nombre des valeurs d'un dictionnaire\n",
    "\n",
    "def nbrValeurDict(d):\n",
    "    \n",
    "    d_cle = list(d.keys())\n",
    "    count = 0\n",
    "    \n",
    "    for cle in d_cle:\n",
    "        nombre = len(d[cle]) # compter le nombre de valeurs de la clé\n",
    "        count += nombre\n",
    "    return count\n",
    "    \n",
    "nbrValeurDict({\"a\":[1,2,3], \"b\":[3,\"p\"], \"c\":[8]})"
   ]
  },
  {
   "cell_type": "code",
   "execution_count": 77,
   "id": "f7199a1b",
   "metadata": {},
   "outputs": [
    {
     "data": {
      "text/plain": [
       "4"
      ]
     },
     "execution_count": 77,
     "metadata": {},
     "output_type": "execute_result"
    }
   ],
   "source": [
    "nbrValeurDict({\"Julie\":[12,60.1], \"Fred\":[26,75.6], \"David\":[]})"
   ]
  },
  {
   "cell_type": "markdown",
   "id": "f0856732",
   "metadata": {},
   "source": [
    "## Exercice 50 : def concatDict(d1, d2)"
   ]
  },
  {
   "cell_type": "code",
   "execution_count": 78,
   "id": "72b43726",
   "metadata": {},
   "outputs": [
    {
     "data": {
      "text/plain": [
       "{'a': 3, 'b': 6, 'c': 2, 'd': -1}"
      ]
     },
     "execution_count": 78,
     "metadata": {},
     "output_type": "execute_result"
    }
   ],
   "source": [
    "# créer une fonction qui permet de concaténer des dictionnaires\n",
    "\n",
    "def concatDict(d1, d2):\n",
    "    d1.update(d2)\n",
    "    return d1\n",
    "\n",
    "concatDict({\"a\":3, \"b\":6}, {\"c\":2, \"d\":-1})"
   ]
  },
  {
   "cell_type": "code",
   "execution_count": 79,
   "id": "eb226a7a",
   "metadata": {},
   "outputs": [
    {
     "data": {
      "text/plain": [
       "{'d': [2.9, 4.1], 'p': []}"
      ]
     },
     "execution_count": 79,
     "metadata": {},
     "output_type": "execute_result"
    }
   ],
   "source": [
    "concatDict({\"d\":[2.9,4.1]}, {\"p\":[]})"
   ]
  },
  {
   "cell_type": "markdown",
   "id": "fd0844df",
   "metadata": {},
   "source": [
    "# DAY 6"
   ]
  },
  {
   "cell_type": "markdown",
   "id": "28f92f21",
   "metadata": {},
   "source": [
    "## Exercice 51 - def calculFactorielle(n)"
   ]
  },
  {
   "cell_type": "code",
   "execution_count": 80,
   "id": "2a311ef6",
   "metadata": {},
   "outputs": [
    {
     "data": {
      "text/plain": [
       "6"
      ]
     },
     "execution_count": 80,
     "metadata": {},
     "output_type": "execute_result"
    }
   ],
   "source": [
    "# La factorielle d'un nombre entier positif 𝑛! est le produit de tous les nombres entiers positifs inférieurs ou égaux à 𝑛\n",
    "# n!=n × (n−1) × (n−2) × … × 2 × 1\n",
    "# 0! = 1 par convention\n",
    "\n",
    "def calculFactorielle(n):\n",
    "    if n == 0 :\n",
    "        return 1\n",
    "    \n",
    "    result = n\n",
    "    for i in range(n-1, 0, -1): # résultat = n * (n-1) * ... * 1\n",
    "        result = result * i\n",
    "        \n",
    "    return result\n",
    "\n",
    "calculFactorielle(3)"
   ]
  },
  {
   "cell_type": "code",
   "execution_count": 81,
   "id": "4b73625c",
   "metadata": {},
   "outputs": [
    {
     "data": {
      "text/plain": [
       "362880"
      ]
     },
     "execution_count": 81,
     "metadata": {},
     "output_type": "execute_result"
    }
   ],
   "source": [
    "calculFactorielle(9)"
   ]
  },
  {
   "cell_type": "code",
   "execution_count": 82,
   "id": "98c56bfb",
   "metadata": {},
   "outputs": [
    {
     "data": {
      "text/plain": [
       "1"
      ]
     },
     "execution_count": 82,
     "metadata": {},
     "output_type": "execute_result"
    }
   ],
   "source": [
    "calculFactorielle(0)"
   ]
  },
  {
   "cell_type": "markdown",
   "id": "78ccf8e1",
   "metadata": {},
   "source": [
    "## Exercice 52 - def diviseursMult(n, a, seuil)"
   ]
  },
  {
   "cell_type": "code",
   "execution_count": 83,
   "id": "69284e1c",
   "metadata": {},
   "outputs": [
    {
     "data": {
      "text/plain": [
       "[5, 15, 25, 35, 45, 55, 65, 75, 85, 95]"
      ]
     },
     "execution_count": 83,
     "metadata": {},
     "output_type": "execute_result"
    }
   ],
   "source": [
    "# créer une fonction qui permet de trouver les nombres divisibles par n de 0 à \"seuil\" et qui ne sont pas multiples de a\n",
    "\n",
    "def diviseursMult(n, a, seuil):\n",
    "    \n",
    "    liste = []\n",
    "    \n",
    "    for i in range(seuil+1): # range de 0 à \"seuil\"\n",
    "        if i%n == 0 and i%a != 0 : # les nombres divisibles par n mais pas par a\n",
    "            liste.append(i)\n",
    "            \n",
    "    return liste\n",
    "    \n",
    "diviseursMult(5, 2, 100)"
   ]
  },
  {
   "cell_type": "code",
   "execution_count": 84,
   "id": "c2baa81a",
   "metadata": {},
   "outputs": [
    {
     "data": {
      "text/plain": [
       "[11, 22, 44, 55, 77]"
      ]
     },
     "execution_count": 84,
     "metadata": {},
     "output_type": "execute_result"
    }
   ],
   "source": [
    "diviseursMult(11,3,85)"
   ]
  },
  {
   "cell_type": "markdown",
   "id": "b72756bc",
   "metadata": {},
   "source": [
    "## Exercice 53 - def presenceVoyelle(phrase)"
   ]
  },
  {
   "cell_type": "code",
   "execution_count": 85,
   "id": "a6cb045e",
   "metadata": {},
   "outputs": [
    {
     "data": {
      "text/plain": [
       "True"
      ]
     },
     "execution_count": 85,
     "metadata": {},
     "output_type": "execute_result"
    }
   ],
   "source": [
    "# créer une fonction qui permet de vérifier si une phrase contient une voyelle\n",
    "\n",
    "def presenceVoyelle(phrase):\n",
    "    \n",
    "    voyelles = [\"u\",\"e\",\"o\",\"a\",\"i\",\"y\"]\n",
    "    \n",
    "    for lettre in phrase:\n",
    "        if lettre in voyelles:\n",
    "            return True\n",
    "        \n",
    "    return False\n",
    "\n",
    "presenceVoyelle(\"Je vais prendre ma douche.\")"
   ]
  },
  {
   "cell_type": "code",
   "execution_count": 86,
   "id": "a952bc3f",
   "metadata": {},
   "outputs": [
    {
     "data": {
      "text/plain": [
       "False"
      ]
     },
     "execution_count": 86,
     "metadata": {},
     "output_type": "execute_result"
    }
   ],
   "source": [
    "presenceVoyelle(\"rbhpm\")"
   ]
  },
  {
   "cell_type": "markdown",
   "id": "399f1edf",
   "metadata": {},
   "source": [
    "## Exercice 54 - def supprEspace(phrase)"
   ]
  },
  {
   "cell_type": "code",
   "execution_count": 87,
   "id": "7989a4da",
   "metadata": {},
   "outputs": [
    {
     "data": {
      "text/plain": [
       "'LaFranceestbelle!'"
      ]
     },
     "execution_count": 87,
     "metadata": {},
     "output_type": "execute_result"
    }
   ],
   "source": [
    "# créer une fonction qui permet de supprimer l'espace entre les mots d'une phrase\n",
    "\n",
    "def supprEspace(phrase):\n",
    "    phrase = phrase.split(\" \") # convertir la phrase en liste de mots ['La', 'France', 'est', 'belle', '!']\n",
    "    no_space = \"\".join(phrase) # joindre les mots sans séparateur\n",
    "    return no_space\n",
    "\n",
    "supprEspace(\"La France est belle !\")"
   ]
  },
  {
   "cell_type": "code",
   "execution_count": 88,
   "id": "917af835",
   "metadata": {},
   "outputs": [
    {
     "data": {
      "text/plain": [
       "'Jevaisprendremonvélo.'"
      ]
     },
     "execution_count": 88,
     "metadata": {},
     "output_type": "execute_result"
    }
   ],
   "source": [
    "supprEspace(\"Je vais prendre mon vélo.\")"
   ]
  },
  {
   "cell_type": "markdown",
   "id": "0fd6c6cd",
   "metadata": {},
   "source": [
    "## Exercice 55 - def positionEltListe(L,x)"
   ]
  },
  {
   "cell_type": "code",
   "execution_count": 89,
   "id": "4c154e9f",
   "metadata": {},
   "outputs": [
    {
     "name": "stdout",
     "output_type": "stream",
     "text": [
      "L'élément 3 ne se trouve pas dans la liste [1, 2, 3, 6, 8, 7, 3].\n",
      "L'élément 3 ne se trouve pas dans la liste [1, 2, 3, 6, 8, 7, 3].\n",
      "L'élément 3 ne se trouve pas dans la liste [1, 2, 3, 6, 8, 7, 3].\n",
      "L'élément 3 ne se trouve pas dans la liste [1, 2, 3, 6, 8, 7, 3].\n",
      "L'élément 3 ne se trouve pas dans la liste [1, 2, 3, 6, 8, 7, 3].\n"
     ]
    },
    {
     "data": {
      "text/plain": [
       "[2, 6]"
      ]
     },
     "execution_count": 89,
     "metadata": {},
     "output_type": "execute_result"
    }
   ],
   "source": [
    "# créer une fonction qui permet de retourner une liste d'indices de l'élément x dans la liste L\n",
    "\n",
    "def positionEltListe(L,x):\n",
    "    \n",
    "    index = []\n",
    "    \n",
    "    for i in range(len(L)):\n",
    "        if L[i] == x:\n",
    "            index.append(i)\n",
    "        else:\n",
    "            print(f\"L'élément {x} ne se trouve pas dans la liste {L}.\")\n",
    "        \n",
    "    return index\n",
    "\n",
    "positionEltListe([1,2,3,6,8,7,3],3)"
   ]
  },
  {
   "cell_type": "code",
   "execution_count": 90,
   "id": "2c658a4f",
   "metadata": {},
   "outputs": [
    {
     "name": "stdout",
     "output_type": "stream",
     "text": [
      "L'élément -1 ne se trouve pas dans la liste [6, 8, 9, 1, 3, 7].\n",
      "L'élément -1 ne se trouve pas dans la liste [6, 8, 9, 1, 3, 7].\n",
      "L'élément -1 ne se trouve pas dans la liste [6, 8, 9, 1, 3, 7].\n",
      "L'élément -1 ne se trouve pas dans la liste [6, 8, 9, 1, 3, 7].\n",
      "L'élément -1 ne se trouve pas dans la liste [6, 8, 9, 1, 3, 7].\n",
      "L'élément -1 ne se trouve pas dans la liste [6, 8, 9, 1, 3, 7].\n"
     ]
    },
    {
     "data": {
      "text/plain": [
       "[]"
      ]
     },
     "execution_count": 90,
     "metadata": {},
     "output_type": "execute_result"
    }
   ],
   "source": [
    "positionEltListe([6,8,9,1,3,7],-1)"
   ]
  },
  {
   "cell_type": "markdown",
   "id": "b5fa2b1a",
   "metadata": {},
   "source": [
    "## Exercice 56 - def filtrerMots(phrase, longueurMini)"
   ]
  },
  {
   "cell_type": "code",
   "execution_count": 91,
   "id": "348b885f",
   "metadata": {},
   "outputs": [
    {
     "data": {
      "text/plain": [
       "['Salut']"
      ]
     },
     "execution_count": 91,
     "metadata": {},
     "output_type": "execute_result"
    }
   ],
   "source": [
    "# créer une fonction qui permet de renvoyer un mot dont dont la longueur est supérieure ou égale à la longueurMini\n",
    "\n",
    "def filtrerMots(phrase, longueurMini):  \n",
    "    \n",
    "    liste = phrase.split(\" \") # séparer des mots ['Salut', 'toi']\n",
    "    \n",
    "    filtre = []\n",
    "    \n",
    "    for mot in liste:\n",
    "        if len(mot) >= longueurMini: # si la lnngueur du mot est supérieure ou égale à la longueurMini\n",
    "            filtre.append(mot) # ajouter à la liste\n",
    "            \n",
    "    liste = \"\".join(filtre)\n",
    "    \n",
    "    return filtre\n",
    "    \n",
    "filtrerMots(\"Salut toi\", 4)"
   ]
  },
  {
   "cell_type": "code",
   "execution_count": 92,
   "id": "c08bed96",
   "metadata": {},
   "outputs": [
    {
     "data": {
      "text/plain": [
       "['origine']"
      ]
     },
     "execution_count": 92,
     "metadata": {},
     "output_type": "execute_result"
    }
   ],
   "source": [
    "filtrerMots(\"Quel est ton origine\", 5)"
   ]
  },
  {
   "cell_type": "markdown",
   "id": "632feb6c",
   "metadata": {},
   "source": [
    "## Exercice 57 - def inverserPhrase(phrase)"
   ]
  },
  {
   "cell_type": "code",
   "execution_count": 93,
   "id": "d1e25136",
   "metadata": {},
   "outputs": [
    {
     "data": {
      "text/plain": [
       "'monde le tout bonjour'"
      ]
     },
     "execution_count": 93,
     "metadata": {},
     "output_type": "execute_result"
    }
   ],
   "source": [
    "# créer une fonction qui permet d'inverser l'ordre des mots d'une phrase\n",
    "\n",
    "def inverserPhrase(phrase):\n",
    "    liste = phrase.split(\" \") # séparer des mots par l'espace \" \" => ['bonjour', 'tout', 'le', 'monde']\n",
    "    liste.reverse() #  inverser l'ordre des mots\n",
    "    phrase = \" \".join(liste) # concaténer les mots en ajoutant un espace \" \"\n",
    "    return phrase\n",
    "    \n",
    "inverserPhrase(\"bonjour tout le monde\")"
   ]
  },
  {
   "cell_type": "code",
   "execution_count": 94,
   "id": "9aa0127b",
   "metadata": {},
   "outputs": [
    {
     "data": {
      "text/plain": [
       "'Pomme'"
      ]
     },
     "execution_count": 94,
     "metadata": {},
     "output_type": "execute_result"
    }
   ],
   "source": [
    "inverserPhrase(\"Pomme\")"
   ]
  },
  {
   "cell_type": "markdown",
   "id": "890d1b40",
   "metadata": {},
   "source": [
    "## Exercice 58 - def nombreOccurence(L)"
   ]
  },
  {
   "cell_type": "code",
   "execution_count": 95,
   "id": "965084f0",
   "metadata": {},
   "outputs": [
    {
     "data": {
      "text/plain": [
       "[(-4, 1), (8, 2), (-3, 2), (2, 2), (1, 2), (7, 1), (9, 1)]"
      ]
     },
     "execution_count": 95,
     "metadata": {},
     "output_type": "execute_result"
    }
   ],
   "source": [
    "# créer une fonction qui permet de renvoyer un tuple avec chaque élément de la liste et son nombre d'occurence\n",
    "\n",
    "def nombreOccurence(L):\n",
    "    result = []\n",
    "    \n",
    "    for i in L:\n",
    "        count = L.count(i) # le nombre d'occurence de chaque élément est respectivement [1, 2, 2, 2, 2, 2, 1, 1, 2, 2, 2]\n",
    "        couple = (i, count) # L[i] & count(i) => (-4, 1), (8, 2), (-3, 2), (2, 2), (1, 2), (7, 1), (9, 1)\n",
    "        if couple not in result: # pour éviter des tuples en double\n",
    "            result.append(couple)\n",
    "    return result\n",
    "\n",
    "nombreOccurence([-4,8,-3,2,1,2,7,9,-3,8,1])"
   ]
  },
  {
   "cell_type": "code",
   "execution_count": 96,
   "id": "8ac5829c",
   "metadata": {},
   "outputs": [
    {
     "data": {
      "text/plain": [
       "[('a', 1), (3, 1), (4, 1), ('b', 1), ('a,3', 1)]"
      ]
     },
     "execution_count": 96,
     "metadata": {},
     "output_type": "execute_result"
    }
   ],
   "source": [
    "nombreOccurence([\"a\",3,4,\"b\",\"a,3\"])"
   ]
  },
  {
   "cell_type": "markdown",
   "id": "a95aa4d2",
   "metadata": {},
   "source": [
    "## Exercice 59 - def unionListe(L1,L2,L3)"
   ]
  },
  {
   "cell_type": "code",
   "execution_count": 97,
   "id": "8c29587d",
   "metadata": {},
   "outputs": [
    {
     "data": {
      "text/plain": [
       "[0, 1, 3, 6, 9, 12]"
      ]
     },
     "execution_count": 97,
     "metadata": {},
     "output_type": "execute_result"
    }
   ],
   "source": [
    "# créer une fonction qui permet de concaténer 3 listes sans doublons\n",
    "\n",
    "def unionListe(L1, L2, L3):\n",
    "    L = L1 + L2 + L3\n",
    "    for i in L:\n",
    "        count = L.count(i)\n",
    "        if count >= 2:\n",
    "            L.remove(i)\n",
    "            L.sort()\n",
    "    return L\n",
    "    \n",
    "unionListe([3,6,9,3],[1,0,3],[12,6,0])"
   ]
  },
  {
   "cell_type": "code",
   "execution_count": 98,
   "id": "a66c82dc",
   "metadata": {},
   "outputs": [
    {
     "data": {
      "text/plain": [
       "[0, 1, 3, 6, 9, 12]"
      ]
     },
     "execution_count": 98,
     "metadata": {},
     "output_type": "execute_result"
    }
   ],
   "source": [
    "# autre méthode\n",
    "def unionListe(L1, L2, L3):\n",
    "    L = L1 + L2 + L3\n",
    "    L = set(L) # convertir en \"set\" pour supprimer les doublons\n",
    "    L = list(L) # reconvertir en \"list\" pour trier\n",
    "    L.sort()\n",
    "    return L\n",
    "    \n",
    "unionListe([3,6,9,3],[1,0,3],[12,6,0])"
   ]
  },
  {
   "cell_type": "code",
   "execution_count": 99,
   "id": "ab47bbe4",
   "metadata": {},
   "outputs": [
    {
     "data": {
      "text/plain": [
       "[-3, 2, 7, 44]"
      ]
     },
     "execution_count": 99,
     "metadata": {},
     "output_type": "execute_result"
    }
   ],
   "source": [
    "unionListe([7,44,-3],[],[7,2,7])"
   ]
  },
  {
   "cell_type": "code",
   "execution_count": 100,
   "id": "3c0e0095",
   "metadata": {},
   "outputs": [
    {
     "data": {
      "text/plain": [
       "[0, 1, 3, 6, 9, 12]"
      ]
     },
     "execution_count": 100,
     "metadata": {},
     "output_type": "execute_result"
    }
   ],
   "source": [
    "# autre méthode\n",
    "def unionListe(L1,L2,L3):\n",
    "    set_L1 = set(L1) # convertir la liste en \"set\" car \"set\" ne contient pas les doublons \n",
    "    set_L2 = set(L2)\n",
    "    set_L3 = set(L3)\n",
    "    \n",
    "    union = set_L1 | set_L2 | set_L3 # concaténer 3 sets\n",
    "    L_union = list(union) # convertir le set commun en liste\n",
    "    L_union.sort() # trier par ordre croissant\n",
    "    \n",
    "    return L_union\n",
    "\n",
    "unionListe([3,6,9,3],[1,0,3],[12,6,0])"
   ]
  },
  {
   "cell_type": "markdown",
   "id": "9413f0f3",
   "metadata": {},
   "source": [
    "## Exercice 60 - def calculPGCD(a, b)"
   ]
  },
  {
   "cell_type": "code",
   "execution_count": 101,
   "id": "f7ea464c",
   "metadata": {},
   "outputs": [
    {
     "data": {
      "text/plain": [
       "5"
      ]
     },
     "execution_count": 101,
     "metadata": {},
     "output_type": "execute_result"
    }
   ],
   "source": [
    "# créer une fonction qui permet de calculer le plus grand commun diviseur de 2 nombres entiers\n",
    "# l'algorithme d'Euclide : a = b * quotient + reste\n",
    "\n",
    "def calculPGCD(a, b):\n",
    "    \n",
    "    # L'instruction \"assert\" vérifie qu'un nombre est strictement positif. \n",
    "    # Si cette condition n'est pas remplie, le programme lève une erreur (AssertionError)\n",
    "    assert(a > 0 and b > 0)\n",
    "    \n",
    "    while b != 0: #  tandis que b est différent de 0\n",
    "        a, b = b, a%b # a = b & b = le reste de a divisé par b\n",
    "        \n",
    "    # Ce processus est répété jusqu'à ce que le reste (b) soit 0 => a est le PGCD des deux nombres.\n",
    "        \n",
    "    return a\n",
    "\n",
    "calculPGCD(5,15)"
   ]
  },
  {
   "cell_type": "code",
   "execution_count": 102,
   "id": "7bcc6c8d",
   "metadata": {},
   "outputs": [
    {
     "data": {
      "text/plain": [
       "1"
      ]
     },
     "execution_count": 102,
     "metadata": {},
     "output_type": "execute_result"
    }
   ],
   "source": [
    "calculPGCD(3,5)"
   ]
  },
  {
   "cell_type": "markdown",
   "id": "ff2d33c7",
   "metadata": {},
   "source": [
    "# DAY 7"
   ]
  },
  {
   "cell_type": "markdown",
   "id": "c151d829",
   "metadata": {},
   "source": [
    "## Exercice 61 - def lireFichier(cheminFichier)"
   ]
  },
  {
   "cell_type": "code",
   "execution_count": 103,
   "id": "83370a37",
   "metadata": {},
   "outputs": [
    {
     "data": {
      "text/plain": [
       "\"Bonjour je m'appelle Gregory et j'ai 30 ans. j'aime la natation et je vais souvent à la piscine. j'aime la natation et je vais souvent à la piscine. j'aime la natation et je vais souvent à la piscine. \""
      ]
     },
     "execution_count": 103,
     "metadata": {},
     "output_type": "execute_result"
    }
   ],
   "source": [
    "# créer une fonction qui permet de lire un fichier txt\n",
    "\n",
    "def lireFichier(cheminFichier):\n",
    "    \n",
    "    fichier = open(cheminFichier, \"r\") # r: read, r+: read+write, w: write\n",
    "    contenu = fichier.read()\n",
    "    fichier.close()\n",
    "    return contenu\n",
    "\n",
    "# lireFichier(\"C:\\Users\\huyen\\test.txt\") -> Erreur \"unicodeescape\" : car en Python backslashes \"\\\" = caractère d'échappement\n",
    "\n",
    "# soit utiliser des doubles backslashes \"\\\\\"\n",
    "lireFichier(\"C:\\\\Users\\\\huyen\\\\test.txt\")"
   ]
  },
  {
   "cell_type": "code",
   "execution_count": 104,
   "id": "c427cea7",
   "metadata": {},
   "outputs": [
    {
     "data": {
      "text/plain": [
       "\"Bonjour je m'appelle Gregory et j'ai 30 ans. j'aime la natation et je vais souvent à la piscine. j'aime la natation et je vais souvent à la piscine. j'aime la natation et je vais souvent à la piscine. \""
      ]
     },
     "execution_count": 104,
     "metadata": {},
     "output_type": "execute_result"
    }
   ],
   "source": [
    "# soit ajouter un \"r\" avant la chaîne => les backslashes ne seront pas traités comme des caractères d'échappement\n",
    "lireFichier(r\"C:\\Users\\huyen\\test.txt\")"
   ]
  },
  {
   "cell_type": "code",
   "execution_count": 105,
   "id": "2b2be0f7",
   "metadata": {},
   "outputs": [
    {
     "data": {
      "text/plain": [
       "\"Bonjour je m'appelle Gregory et j'ai 30 ans. j'aime la natation et je vais souvent à la piscine. j'aime la natation et je vais souvent à la piscine. j'aime la natation et je vais souvent à la piscine. \""
      ]
     },
     "execution_count": 105,
     "metadata": {},
     "output_type": "execute_result"
    }
   ],
   "source": [
    "# soit utiliser des slashes \"/\"\n",
    "lireFichier(\"C:/Users/huyen/test.txt\")"
   ]
  },
  {
   "cell_type": "markdown",
   "id": "de869116",
   "metadata": {},
   "source": [
    "## Exercice 62 - def nbOccFichier(cheminFichier, mot)"
   ]
  },
  {
   "cell_type": "code",
   "execution_count": 106,
   "id": "5bfb98c7",
   "metadata": {},
   "outputs": [
    {
     "data": {
      "text/plain": [
       "4"
      ]
     },
     "execution_count": 106,
     "metadata": {},
     "output_type": "execute_result"
    }
   ],
   "source": [
    "# créer une fonction qui permet de compter le nombre d'occurence d'un mot dans un texte\n",
    "\n",
    "def nbOccFichier(cheminFichier, mot):\n",
    "    \n",
    "    fichier = open(cheminFichier, \"r\")\n",
    "    \n",
    "    contenu = fichier.read()\n",
    "    \n",
    "    liste = contenu.split(\" \") # convertir en liste ['Bonjour', 'je', \"m'appelle\", 'Gregory', 'et', \"j'ai\", '30', 'ans']\n",
    "    \n",
    "    nombre = 0\n",
    "    for elt in liste :\n",
    "        if elt == mot:\n",
    "            nombre += 1\n",
    "    \n",
    "    return nombre\n",
    "\n",
    "nbOccFichier(\"C:/Users/huyen/test.txt\", \"je\")"
   ]
  },
  {
   "cell_type": "markdown",
   "id": "37f01df7",
   "metadata": {},
   "source": [
    "## Exercice 63 - def supprCarac(cheminFichier, caractere)"
   ]
  },
  {
   "cell_type": "code",
   "execution_count": 107,
   "id": "19d41972",
   "metadata": {},
   "outputs": [
    {
     "data": {
      "text/plain": [
       "\"Bonjour je m'appelle Gregory et j'ai 30 ans. j'aime la natation et je vais souvent à la piscine. j'aime la natation et je vais souvent à la piscine. j'aime la natation et je vais souvent à la piscine. \""
      ]
     },
     "execution_count": 107,
     "metadata": {},
     "output_type": "execute_result"
    }
   ],
   "source": [
    "# créer une fonction qui permet de supprimer un caractère dans un texte\n",
    "\n",
    "def supprCarac(cheminFichier, caractere):\n",
    "    \n",
    "    with open(cheminFichier, \"r\") as fichier:\n",
    "        contenu = fichier.read() # \"Bonjour, je, m'appelle, Gregory, et, j'ai, 30, ans\" avec \",\"\n",
    "        \n",
    "    new = contenu.replace(caractere, \"\") # supprimer (ou remplacer) \",\" par \"\"\n",
    "    \n",
    "    with open(cheminFichier, \"w\") as fichier:\n",
    "        fichier.write(new) # modifier le fichier  \n",
    "        \n",
    "    return new\n",
    "\n",
    "supprCarac(\"C:/Users/huyen/test.txt\", \",\") # \"Bonjour je m\\'appelle Gregory et j\\'ai 30 ans\" sans \",\""
   ]
  },
  {
   "cell_type": "markdown",
   "id": "12fd1d78",
   "metadata": {},
   "source": [
    "## Exercice 64 - def presenceNombre(cheminFichier)"
   ]
  },
  {
   "cell_type": "code",
   "execution_count": 108,
   "id": "f132057f",
   "metadata": {},
   "outputs": [
    {
     "data": {
      "text/plain": [
       "True"
      ]
     },
     "execution_count": 108,
     "metadata": {},
     "output_type": "execute_result"
    }
   ],
   "source": [
    "# créer une fonction qui permet de vérifier s'il existe un nombre dans un texte\n",
    "\n",
    "def presenceNombre(cheminFichier):\n",
    "    \n",
    "    fichier = open(cheminFichier, \"r\")\n",
    "    \n",
    "    contenu = fichier.read() # \"Bonjour je m\\'appelle Gregory et j\\'ai 30 ans\"    \n",
    "    \n",
    "    for i in contenu :\n",
    "        if i.isdigit(): # vérifier s'il existe un nombre dans le texte\n",
    "            return True\n",
    "    return False\n",
    "\n",
    "presenceNombre(\"C:/Users/huyen/test.txt\")"
   ]
  },
  {
   "cell_type": "markdown",
   "id": "da9e42bd",
   "metadata": {},
   "source": [
    "## Exercice 65 - def nombreFichier(cheminDossier)"
   ]
  },
  {
   "cell_type": "code",
   "execution_count": 109,
   "id": "aecb9c2a",
   "metadata": {},
   "outputs": [
    {
     "data": {
      "text/plain": [
       "0"
      ]
     },
     "execution_count": 109,
     "metadata": {},
     "output_type": "execute_result"
    }
   ],
   "source": [
    "# créer une fonction qui permet de compter le nomnbre de fichiers d'un dossier\n",
    "\n",
    "import os\n",
    "\n",
    "def nombreFichier(cheminDossier):\n",
    "    \n",
    "    nombre = 0    \n",
    "    contenu = os.listdir(cheminDossier) # obtenir la liste de tous les fichiers et répertoires    \n",
    "    contenu = str(contenu)\n",
    "    \n",
    "    for fichier in contenu:        \n",
    "        # os.path.isfile : vérifier si le chemin correspond bien à un fichier\n",
    "        if os.path.isfile(os.path.join(cheminDossier, contenu)): # joindre un ou plusieurs composants de chemin avec \"/\"\n",
    "            nombre += 1        \n",
    "    return nombre\n",
    "\n",
    "nombreFichier(r\"C:\\BUREAU\")"
   ]
  },
  {
   "cell_type": "markdown",
   "id": "a672a316",
   "metadata": {},
   "source": [
    "## Exercice 66 - def ecrireFichier(cheminFichier, texte)"
   ]
  },
  {
   "cell_type": "code",
   "execution_count": 110,
   "id": "dc845507",
   "metadata": {},
   "outputs": [],
   "source": [
    "# créer une fonction qui permet de modifier ou ajouter du nouveau texte à un fichier existant\n",
    "\n",
    "def ecrireFichier(cheminFichier, texte):\n",
    "    \n",
    "    f = open(cheminFichier, \"a\") #  a: add => ajouter des textes\n",
    "    f.write(texte)\n",
    "    f.close()\n",
    "\n",
    "ecrireFichier(\"C:/Users/huyen/test.txt\", \"j'aime la natation et je vais souvent à la piscine. \") "
   ]
  },
  {
   "cell_type": "markdown",
   "id": "4b47bf7b",
   "metadata": {},
   "source": [
    "## Exercice 67 - def cleMaxValeurDict(d)"
   ]
  },
  {
   "cell_type": "code",
   "execution_count": 111,
   "id": "16791923",
   "metadata": {},
   "outputs": [
    {
     "data": {
      "text/plain": [
       "'a'"
      ]
     },
     "execution_count": 111,
     "metadata": {},
     "output_type": "execute_result"
    }
   ],
   "source": [
    "# créer une fonction qui permet de renvoyer la clé avec le plus grand nombre de valeurs uniques d'un dictionnaire\n",
    "\n",
    "def cleMaxValeurDict(d):\n",
    "    \n",
    "    cles = list(d.keys()) # ['a', 'b', 'c']\n",
    "    \n",
    "    liste = []\n",
    "    \n",
    "    for cle in cles:\n",
    "        nombre = len(set(d[cle])) # compter le nombre de valeurs uniques en convertissant en \"set\" car pas des doublons   \n",
    "        liste.append((cle, nombre)) # [('a', 5), ('b', 3), ('c', 3)]        \n",
    "        liste.sort(key = lambda x : x[1]) # trier par le 2è elt [-1] => [('b', 3), ('c', 3), ('a', 5)]\n",
    "        maxi = liste[-1][0] # liste[-1] = ('a', 5), liste[-1][0] = \"a\" => renvoyer le 1er élément de la liste\n",
    "    \n",
    "    return maxi\n",
    "\n",
    "cleMaxValeurDict({\"a\":[9,10,9,7,3,1], \"b\":[5,3,2,2,2],\"c\":[1,1,1,1,1,1,8,2]})"
   ]
  },
  {
   "cell_type": "code",
   "execution_count": 112,
   "id": "37ff408d",
   "metadata": {},
   "outputs": [
    {
     "data": {
      "text/plain": [
       "'dtg'"
      ]
     },
     "execution_count": 112,
     "metadata": {},
     "output_type": "execute_result"
    }
   ],
   "source": [
    "cleMaxValeurDict({\"dtg\":[6,8,1], \"fgb\":[2.5,\"a\"],\"klm\":[\"p\",3,3]})"
   ]
  },
  {
   "cell_type": "markdown",
   "id": "94fe0f02",
   "metadata": {},
   "source": [
    "## Exercice 68"
   ]
  },
  {
   "cell_type": "code",
   "execution_count": 113,
   "id": "574a24a2",
   "metadata": {},
   "outputs": [
    {
     "name": "stdout",
     "output_type": "stream",
     "text": [
      "Donnez une liste d'entiers séparés par ',' : 5\n"
     ]
    },
    {
     "data": {
      "text/plain": [
       "['5']"
      ]
     },
     "execution_count": 113,
     "metadata": {},
     "output_type": "execute_result"
    }
   ],
   "source": [
    "liste_utilisateur = input(\"Donnez une liste d'entiers séparés par ',' : \")\n",
    "liste_utilisateur = liste_utilisateur.split(\",\")\n",
    "liste_utilisateur"
   ]
  },
  {
   "cell_type": "code",
   "execution_count": 114,
   "id": "15392a53",
   "metadata": {},
   "outputs": [
    {
     "name": "stdout",
     "output_type": "stream",
     "text": [
      "Entrez le nombre d'élément de la liste : 1\n",
      "Entrez un élément de la liste : 1\n",
      "[1]\n"
     ]
    }
   ],
   "source": [
    "# autre méthode\n",
    "\n",
    "liste_utilisateur = []\n",
    "\n",
    "nombre = int(input(\"Entrez le nombre d'élément de la liste : \"))\n",
    "\n",
    "for i in range(nombre):\n",
    "    elt = int(input(\"Entrez un élément de la liste : \"))\n",
    "    liste_utilisateur.append(elt)\n",
    "    \n",
    "print(liste_utilisateur)"
   ]
  },
  {
   "cell_type": "markdown",
   "id": "70582e4e",
   "metadata": {},
   "source": [
    "## Exercice 69 - def nbJourHeure(dateDebut, dateFin)"
   ]
  },
  {
   "cell_type": "code",
   "execution_count": 115,
   "id": "54735338",
   "metadata": {},
   "outputs": [
    {
     "data": {
      "text/plain": [
       "(36, 864)"
      ]
     },
     "execution_count": 115,
     "metadata": {},
     "output_type": "execute_result"
    }
   ],
   "source": [
    "# créer une fonction qui permet de renvoyer le nombre d'écart de jours et d'heures entre 2 dates\n",
    "\n",
    "from datetime import datetime\n",
    "\n",
    "def nbJourHeure(dateDebut, dateFin):\n",
    "    \n",
    "    format_date = \"%Y/%m/%d\"\n",
    "    \n",
    "    # convertir la date en format souhaité\n",
    "    date_debut_format = datetime.strptime(dateDebut, format_date) \n",
    "    date_fin_format = datetime.strptime(dateFin, format_date)\n",
    "    \n",
    "    nbrJour = (date_fin_format - date_debut_format).days # calculer le nombre de jours d'écart entre 2 dates\n",
    "    nbrHeure = nbrJour * 24\n",
    "    \n",
    "    return nbrJour, nbrHeure\n",
    "\n",
    "nbJourHeure(\"2022/05/15\", \"2022/06/20\")"
   ]
  },
  {
   "cell_type": "code",
   "execution_count": 116,
   "id": "baca0ccf",
   "metadata": {
    "scrolled": false
   },
   "outputs": [
    {
     "data": {
      "text/plain": [
       "(26, 624)"
      ]
     },
     "execution_count": 116,
     "metadata": {},
     "output_type": "execute_result"
    }
   ],
   "source": [
    "nbJourHeure(\"2022/04/1\",\"2022/04/27\")"
   ]
  },
  {
   "cell_type": "markdown",
   "id": "82921ff8",
   "metadata": {},
   "source": [
    "## Exercice 70 - def genererMDP(caracteres, tailleMDP)"
   ]
  },
  {
   "cell_type": "code",
   "execution_count": 117,
   "id": "a1859792",
   "metadata": {
    "scrolled": true
   },
   "outputs": [
    {
     "data": {
      "text/plain": [
       "'$KNX9tv7Q#'"
      ]
     },
     "execution_count": 117,
     "metadata": {},
     "output_type": "execute_result"
    }
   ],
   "source": [
    "# créer une fonction qui permet de générer un mot de passe avec la longueur définie\n",
    "\n",
    "import string\n",
    "import random\n",
    "\n",
    "# \"ascii_letters\" contient toutes les lettres majuscules et minuscules de l'alphabet anglais\n",
    "liste_caracteres = list(string.ascii_letters + string.digits + \"!@#$%^&*()\") \n",
    "\n",
    "def genererMDP(caracteres, tailleMDP):\n",
    "    \n",
    "    random.shuffle(caracteres) # mélanger les caractères\n",
    "    \n",
    "    mdp = []\n",
    "    \n",
    "    for i in range(tailleMDP):\n",
    "        carac_alea = random.choice(caracteres) # choisir les caractères\n",
    "        mdp.append(carac_alea)        \n",
    "   \n",
    "    mdp = \"\".join(mdp) # convertir la liste en str sans espaces\n",
    "    \n",
    "    return mdp\n",
    "    \n",
    "genererMDP(liste_caracteres, 10)"
   ]
  },
  {
   "cell_type": "markdown",
   "id": "ffb2d9ed",
   "metadata": {},
   "source": [
    "# DAY 8"
   ]
  },
  {
   "cell_type": "markdown",
   "id": "d1ee97b4",
   "metadata": {},
   "source": [
    "## Exercice 71 - def fonctTrigo(x)"
   ]
  },
  {
   "cell_type": "code",
   "execution_count": 118,
   "id": "51ce881c",
   "metadata": {
    "scrolled": true
   },
   "outputs": [
    {
     "data": {
      "text/plain": [
       "9.207106781186548"
      ]
     },
     "execution_count": 118,
     "metadata": {},
     "output_type": "execute_result"
    }
   ],
   "source": [
    "# créer une fonction qui permet de retourner le résulat de la formule\n",
    "\n",
    "import math\n",
    "\n",
    "def fonctTrigo(x):\n",
    "    f = math.cos(x) * math.sin(x) + math.sin(x) + 8\n",
    "    return f\n",
    "\n",
    "fonctTrigo(math.pi/4)"
   ]
  },
  {
   "cell_type": "code",
   "execution_count": 119,
   "id": "7f82eeb6",
   "metadata": {},
   "outputs": [
    {
     "data": {
      "text/plain": [
       "8.0"
      ]
     },
     "execution_count": 119,
     "metadata": {},
     "output_type": "execute_result"
    }
   ],
   "source": [
    "fonctTrigo(math.pi)"
   ]
  },
  {
   "cell_type": "markdown",
   "id": "7d0c1707",
   "metadata": {},
   "source": [
    "## Exercice 72"
   ]
  },
  {
   "cell_type": "code",
   "execution_count": 120,
   "id": "a1060461",
   "metadata": {},
   "outputs": [
    {
     "name": "stdout",
     "output_type": "stream",
     "text": [
      "[100, 101, 102, 103, 104, 105, 106, 107, 108, 109, 110, 120, 123, 130, 132, 138, 140, 145, 150, 154, 159, 160, 167, 170, 176, 180, 183, 189, 190, 195, 198, 200, 201, 202, 203, 204, 205, 206, 207, 208, 209, 210, 213, 220, 224, 230, 231, 235, 240, 242, 246, 250, 253, 257, 260, 264, 268, 270, 275, 279, 280, 286, 290, 297, 300, 301, 302, 303, 304, 305, 306, 307, 308, 309, 310, 312, 318, 320, 321, 325, 330, 333, 340, 345, 347, 350, 352, 354, 357, 360, 369, 370, 374, 375, 380, 381, 390, 396, 400, 401, 402, 403, 404, 405, 406, 407, 408, 409, 410, 415, 420, 422, 426, 430, 435, 437, 440, 448, 450, 451, 453, 456, 459, 460, 462, 465, 466, 470, 473, 480, 484, 490, 495, 500, 501, 502, 503, 504, 505, 506, 507, 508, 509, 510, 514, 519, 520, 523, 527, 530, 532, 534, 537, 540, 541, 543, 546, 549, 550, 560, 564, 570, 572, 573, 578, 579, 580, 587, 590, 591, 594, 597, 600, 601, 602, 603, 604, 605, 606, 607, 608, 609, 610, 617, 620, 624, 628, 630, 639, 640, 642, 645, 646, 650, 654, 660, 664, 666, 670, 671, 678, 680, 682, 687, 690, 693, 700, 701, 702, 703, 704, 705, 706, 707, 708, 709, 710, 716, 720, 725, 729, 730, 734, 735, 740, 743, 750, 752, 753, 758, 759, 760, 761, 768, 770, 780, 785, 786, 789, 790, 792, 795, 798, 800, 801, 802, 803, 804, 805, 806, 807, 808, 809, 810, 813, 819, 820, 826, 830, 831, 840, 844, 850, 857, 860, 862, 867, 870, 875, 876, 879, 880, 890, 891, 897, 900, 901, 902, 903, 904, 905, 906, 907, 908, 909, 910, 915, 918, 920, 927, 930, 936, 940, 945, 950, 951, 954, 957, 960, 963, 970, 972, 975, 978, 980, 981, 987, 990, 999]\n"
     ]
    }
   ],
   "source": [
    "# créer un programme qui permet de renvoyer les nombres entiers dont la somme est le diviseur du produit\n",
    "\n",
    "liste_entiers = []\n",
    "\n",
    "for nb in range(100,1000):\n",
    "    \n",
    "    str_nb = str(nb) # convertir le nombre en str pour séparer les chiffres\n",
    "    somme = int(str_nb[0]) + int(str_nb[1]) + int(str_nb[2]) # convertir les chiffres en int pour calculer\n",
    "    produit = int(str_nb[0]) * int(str_nb[1]) * int(str_nb[2])\n",
    "    \n",
    "    if produit%somme == 0:\n",
    "        liste_entiers.append(nb)\n",
    "\n",
    "print(liste_entiers)"
   ]
  },
  {
   "cell_type": "markdown",
   "id": "b6767c03",
   "metadata": {},
   "source": [
    "## Exercice 73"
   ]
  },
  {
   "cell_type": "code",
   "execution_count": 121,
   "id": "2f62306a",
   "metadata": {},
   "outputs": [
    {
     "data": {
      "text/plain": [
       "24"
      ]
     },
     "execution_count": 121,
     "metadata": {},
     "output_type": "execute_result"
    }
   ],
   "source": [
    "# créer une fonction qui permet de calculer la somme des nombres d'une liste en utilisant la récursivité\n",
    "\n",
    "def calculSomme(L):\n",
    "    \n",
    "    if len(L) == 0:\n",
    "        return 0\n",
    "    return L[0] + calculSomme(L[1:])\n",
    "\n",
    "calculSomme([3,2,6,9,-1,5])"
   ]
  },
  {
   "cell_type": "markdown",
   "id": "2fc33350",
   "metadata": {},
   "source": [
    "## Exercice 74"
   ]
  },
  {
   "cell_type": "code",
   "execution_count": 122,
   "id": "e7f91ff7",
   "metadata": {},
   "outputs": [
    {
     "data": {
      "text/plain": [
       "75025"
      ]
     },
     "execution_count": 122,
     "metadata": {},
     "output_type": "execute_result"
    }
   ],
   "source": [
    "def suiteFibonacci(N):\n",
    "    \n",
    "    if N <= 2:\n",
    "        return 1\n",
    "    return suiteFibonacci(N-1) + suiteFibonacci(N-2)\n",
    "    \n",
    "suiteFibonacci(25)"
   ]
  },
  {
   "cell_type": "markdown",
   "id": "8beb6546",
   "metadata": {},
   "source": [
    "## Exercice 75"
   ]
  },
  {
   "cell_type": "code",
   "execution_count": 123,
   "id": "161f2d9f",
   "metadata": {},
   "outputs": [
    {
     "data": {
      "text/plain": [
       "False"
      ]
     },
     "execution_count": 123,
     "metadata": {},
     "output_type": "execute_result"
    }
   ],
   "source": [
    "# écrire 2 fonctions récursives mutuelles \n",
    "\n",
    "def nombrePair(N):\n",
    "    if N == 1:\n",
    "        return False\n",
    "    return nombreImpair(N-1)\n",
    "\n",
    "def nombreImpair(N):\n",
    "    if N == 1:\n",
    "        return True\n",
    "    return nombrePair(N-1)\n",
    "\n",
    "nombrePair(5)"
   ]
  },
  {
   "cell_type": "code",
   "execution_count": 124,
   "id": "c6fbfec7",
   "metadata": {},
   "outputs": [
    {
     "data": {
      "text/plain": [
       "True"
      ]
     },
     "execution_count": 124,
     "metadata": {},
     "output_type": "execute_result"
    }
   ],
   "source": [
    "nombreImpair(7)"
   ]
  },
  {
   "cell_type": "markdown",
   "id": "f72bb785",
   "metadata": {},
   "source": [
    "## Exercice 76"
   ]
  },
  {
   "cell_type": "code",
   "execution_count": 125,
   "id": "394b1852",
   "metadata": {},
   "outputs": [
    {
     "data": {
      "text/plain": [
       "'Bonjour Aurélie'"
      ]
     },
     "execution_count": 125,
     "metadata": {},
     "output_type": "execute_result"
    }
   ],
   "source": [
    "def join(L, caractere):\n",
    "    \n",
    "    chaine_carac = \"\"\n",
    "    \n",
    "    for i in range(len(L)): # parcourir les indices de L\n",
    "        chaine_carac += L[i] # rajouter à chaine_carac\n",
    "        \n",
    "        if i != len(L)-1: # si ce n'est pas le dernier élément, on rajoute le caractère donné\n",
    "            chaine_carac += caractere\n",
    "            \n",
    "    return chaine_carac\n",
    "\n",
    "join([\"Bonjour\", \"Aurélie\"], \" \")"
   ]
  },
  {
   "cell_type": "code",
   "execution_count": 126,
   "id": "4f6ef1d8",
   "metadata": {},
   "outputs": [
    {
     "data": {
      "text/plain": [
       "'Salut,ça va ?'"
      ]
     },
     "execution_count": 126,
     "metadata": {},
     "output_type": "execute_result"
    }
   ],
   "source": [
    "join([\"Salut\", \"ça va ?\"], \",\")"
   ]
  },
  {
   "cell_type": "code",
   "execution_count": 127,
   "id": "a3c650fc",
   "metadata": {},
   "outputs": [
    {
     "data": {
      "text/plain": [
       "'Bonjour Aurélie'"
      ]
     },
     "execution_count": 127,
     "metadata": {},
     "output_type": "execute_result"
    }
   ],
   "source": [
    "def join(L, caractere):\n",
    "    \n",
    "    L = caractere.join(L)\n",
    "    return L\n",
    "    \n",
    "join([\"Bonjour\", \"Aurélie\"], \" \")"
   ]
  },
  {
   "cell_type": "markdown",
   "id": "5e7175d5",
   "metadata": {},
   "source": [
    "# Niveau Avancé - 24 exercices"
   ]
  },
  {
   "cell_type": "markdown",
   "id": "e071d92f",
   "metadata": {},
   "source": [
    "## Exercice 77 - recréer replace()"
   ]
  },
  {
   "cell_type": "code",
   "execution_count": 128,
   "id": "43307875",
   "metadata": {},
   "outputs": [
    {
     "data": {
      "text/plain": [
       "'Bonjour Mathilde'"
      ]
     },
     "execution_count": 128,
     "metadata": {},
     "output_type": "execute_result"
    }
   ],
   "source": [
    "def remplacer(phrase, ancienMot, nouveauMot):\n",
    "    \n",
    "    if ancienMot in phrase:\n",
    "        \n",
    "        debut_ancienMot_index = phrase.index(ancienMot) # phrase[8] = \"A\"\n",
    "        fin_ancienMot_index = debut_ancienMot_index + len(ancienMot) # 8 + 7(\"Aurélie\") = 15\n",
    "        \n",
    "        phrase_list = list(phrase) # ['B', 'o', 'n', 'j', 'o', 'u', 'r', ' ', 'A', 'u', 'r', 'é', 'l', 'i', 'e']\n",
    "        \n",
    "        phrase_list[debut_ancienMot_index : fin_ancienMot_index] = nouveauMot # phrase[8:15] = \"Mathilde\"\n",
    "        \n",
    "        phrase = \"\".join(phrase_list)\n",
    "        \n",
    "    return phrase\n",
    "\n",
    "remplacer(\"Bonjour Aurélie\", \"Aurélie\", \"Mathilde\")"
   ]
  },
  {
   "cell_type": "code",
   "execution_count": 129,
   "id": "28e80615",
   "metadata": {},
   "outputs": [
    {
     "data": {
      "text/plain": [
       "\"J'ai 35 ans\""
      ]
     },
     "execution_count": 129,
     "metadata": {},
     "output_type": "execute_result"
    }
   ],
   "source": [
    "remplacer(\"J'ai 50 ans\", \"50\", \"35\")"
   ]
  },
  {
   "cell_type": "code",
   "execution_count": 130,
   "id": "8c5afb03",
   "metadata": {},
   "outputs": [
    {
     "data": {
      "text/plain": [
       "'Bonjour Mathilde'"
      ]
     },
     "execution_count": 130,
     "metadata": {},
     "output_type": "execute_result"
    }
   ],
   "source": [
    "def remplacer(phrase, ancienMot, nouveauMot):    \n",
    "    phrase = phrase.replace(ancienMot, nouveauMot)    \n",
    "    return phrase\n",
    "    \n",
    "remplacer(\"Bonjour Aurélie\", \"Aurélie\", \"Mathilde\")"
   ]
  },
  {
   "cell_type": "markdown",
   "id": "87b57a8b",
   "metadata": {},
   "source": [
    "## Exercice 78 - recréer split()"
   ]
  },
  {
   "cell_type": "code",
   "execution_count": 131,
   "id": "9c9202bf",
   "metadata": {},
   "outputs": [
    {
     "data": {
      "text/plain": [
       "['Bonjour', 'Aurélie']"
      ]
     },
     "execution_count": 131,
     "metadata": {},
     "output_type": "execute_result"
    }
   ],
   "source": [
    "def split(phrase, caractere):\n",
    "    \n",
    "    phrase_list = [] # résultat [\"Bonjour\",\"Aurélie\"]\n",
    "    mot_tmp = \"\" # variable temporaire\n",
    "    \n",
    "    if caractere in phrase :\n",
    "        \n",
    "        for i in range(len(phrase)): # parcourir chaque élément dans la liste\n",
    "            \n",
    "            if phrase[i] != caractere: # si l'élément n'est pas le caractère \" \"\n",
    "                mot_tmp += phrase[i] # ajouter les mots au mot_tmp\n",
    "                \n",
    "                if i == len(phrase)-1: # pour le dernier élément de la liste\n",
    "                    phrase_list += [mot_tmp] # mot_tmp devient phrase_liste\n",
    "                    \n",
    "            else: # si l'élément est le caractère \" \"\n",
    "                phrase_list += [mot_tmp] # mot_tmp devient phrase_liste\n",
    "                mot_tmp = \"\" # mot_tmp est vide\n",
    "                \n",
    "        return phrase_list\n",
    "    \n",
    "    else:\n",
    "        phrase_list += [phrase]\n",
    "        return phrase_list\n",
    "\n",
    "split(\"Bonjour Aurélie\", \" \")"
   ]
  },
  {
   "cell_type": "code",
   "execution_count": 132,
   "id": "46fa3cb5",
   "metadata": {},
   "outputs": [
    {
     "data": {
      "text/plain": [
       "['Salut', ' ça va ?']"
      ]
     },
     "execution_count": 132,
     "metadata": {},
     "output_type": "execute_result"
    }
   ],
   "source": [
    "split(\"Salut, ça va ?\", \",\")"
   ]
  },
  {
   "cell_type": "code",
   "execution_count": 133,
   "id": "a2abcb45",
   "metadata": {},
   "outputs": [
    {
     "data": {
      "text/plain": [
       "['Bonjour', 'Aurélie']"
      ]
     },
     "execution_count": 133,
     "metadata": {},
     "output_type": "execute_result"
    }
   ],
   "source": [
    "def split(phrase, caractere):\n",
    "    phrase = phrase.split(caractere)\n",
    "    return phrase\n",
    "    \n",
    "split(\"Bonjour Aurélie\", \" \")"
   ]
  },
  {
   "cell_type": "markdown",
   "id": "e06cc08b",
   "metadata": {},
   "source": [
    "## Exerice 79 - recréer isdigit()"
   ]
  },
  {
   "cell_type": "code",
   "execution_count": 134,
   "id": "ab2cfeb4",
   "metadata": {},
   "outputs": [
    {
     "data": {
      "text/plain": [
       "True"
      ]
     },
     "execution_count": 134,
     "metadata": {},
     "output_type": "execute_result"
    }
   ],
   "source": [
    "import string\n",
    "\n",
    "def isdigit(chaine):\n",
    "    \n",
    "    for i in chaine:\n",
    "        if i not in string.digits: # '0123456789'\n",
    "            return False\n",
    "    return True\n",
    "    \n",
    "isdigit(\"125920\")"
   ]
  },
  {
   "cell_type": "code",
   "execution_count": 135,
   "id": "08a2acf5",
   "metadata": {},
   "outputs": [
    {
     "data": {
      "text/plain": [
       "False"
      ]
     },
     "execution_count": 135,
     "metadata": {},
     "output_type": "execute_result"
    }
   ],
   "source": [
    "isdigit(\"edgte9be\")"
   ]
  },
  {
   "cell_type": "code",
   "execution_count": 136,
   "id": "8f4407b9",
   "metadata": {},
   "outputs": [
    {
     "data": {
      "text/plain": [
       "True"
      ]
     },
     "execution_count": 136,
     "metadata": {},
     "output_type": "execute_result"
    }
   ],
   "source": [
    "# qutre méthode\n",
    "\n",
    "def isdigit(chaine):\n",
    "    # Note : [i for i in range(0,10)] = [0, 1, 2, 3, 4, 5, 6, 7, 8, 9] => nombres entiers\n",
    "    \n",
    "    digit = [\"0\", \"1\", \"2\", \"3\", \"4\", \"5\", \"6\", \"7\", \"8\", \"9\"] # caractères\n",
    "    \n",
    "    for i in chaine:\n",
    "        if i not in digit:\n",
    "            return False\n",
    "    return True\n",
    "\n",
    "isdigit(\"125920\")"
   ]
  },
  {
   "cell_type": "code",
   "execution_count": 137,
   "id": "388867ec",
   "metadata": {},
   "outputs": [
    {
     "data": {
      "text/plain": [
       "False"
      ]
     },
     "execution_count": 137,
     "metadata": {},
     "output_type": "execute_result"
    }
   ],
   "source": [
    "isdigit(\"edgte9be\")"
   ]
  },
  {
   "cell_type": "markdown",
   "id": "b12de803",
   "metadata": {},
   "source": [
    "## Exercice 80"
   ]
  },
  {
   "cell_type": "code",
   "execution_count": 138,
   "id": "9a1e1f90",
   "metadata": {},
   "outputs": [
    {
     "data": {
      "text/plain": [
       "False"
      ]
     },
     "execution_count": 138,
     "metadata": {},
     "output_type": "execute_result"
    }
   ],
   "source": [
    "# Un Palindrome est un mot ou groupe de mots qui peut se lire de gauche à droite ou de droite à gauche en gardant le même sens\n",
    "\n",
    "def estUnPalindrome(nbr):\n",
    "    \n",
    "    if nbr <= 10: # un palindrome > 10\n",
    "        return False\n",
    "    else:\n",
    "        nbr_str = str(nbr) # convertir le nombre en str\n",
    "        nbr_str_inverse = nbr_str[::-1] # inverser les chiffres du nombre\n",
    "        \n",
    "        if nbr_str == nbr_str_inverse: # si le nombre reste le même après l'inversion =s un palindrome\n",
    "            return True\n",
    "        \n",
    "estUnPalindrome(10)"
   ]
  },
  {
   "cell_type": "code",
   "execution_count": 139,
   "id": "4dca1c1f",
   "metadata": {},
   "outputs": [
    {
     "data": {
      "text/plain": [
       "True"
      ]
     },
     "execution_count": 139,
     "metadata": {},
     "output_type": "execute_result"
    }
   ],
   "source": [
    "estUnPalindrome(919)"
   ]
  },
  {
   "cell_type": "markdown",
   "id": "936346be",
   "metadata": {},
   "source": [
    "# DAY 9"
   ]
  },
  {
   "cell_type": "markdown",
   "id": "0063f899",
   "metadata": {},
   "source": [
    "## Exercice 81"
   ]
  },
  {
   "cell_type": "code",
   "execution_count": 140,
   "id": "75f68329",
   "metadata": {},
   "outputs": [
    {
     "name": "stdout",
     "output_type": "stream",
     "text": [
      "1991\n"
     ]
    }
   ],
   "source": [
    "# écrire un programme qui permet de renvoyer le plus grand palindrome\n",
    "\n",
    "nbr_palindrome = []\n",
    "\n",
    "for i in range(100, 1000):\n",
    "    for j in range(100, 1000):\n",
    "        nbr = i + j\n",
    "        if estUnPalindrome(nbr):\n",
    "            nbr_palindrome.append(nbr)\n",
    "            \n",
    "max_palindrome = max(nbr_palindrome)\n",
    "print(max_palindrome)"
   ]
  },
  {
   "cell_type": "markdown",
   "id": "b566b625",
   "metadata": {},
   "source": [
    "## Exercice 82"
   ]
  },
  {
   "cell_type": "code",
   "execution_count": 141,
   "id": "adca4cab",
   "metadata": {},
   "outputs": [
    {
     "data": {
      "text/plain": [
       "True"
      ]
     },
     "execution_count": 141,
     "metadata": {},
     "output_type": "execute_result"
    }
   ],
   "source": [
    "# un nombre est dit circulaire premier si la rotation de ses chiffres sont les nombres premiers\n",
    "# 197 est circulaire premier car 197, 971, 719 sont des nombres premiers\n",
    "\n",
    "import math\n",
    "\n",
    "def estPremier(nombre):\n",
    "    diviseur = 2\n",
    "    \n",
    "    while diviseur <= math.sqrt(nombre):\n",
    "        if nombre % diviseur == 0:\n",
    "            return False        \n",
    "        diviseur += 1        \n",
    "    return True # si pas d'autre diviseur\n",
    "\n",
    "def estCirculairePremier(nombre):\n",
    "    \n",
    "    nombre_circulaire = []\n",
    "    \n",
    "    nombre = str(nombre)\n",
    "    for i in range(len(nombre)):\n",
    "        nombre_circulaire.append(nombre[1:] + nombre[:1]) # \"197\" => [1:]=\"97\" + [:1]=\"1\" => \"971\" => [\"197\", \"971\", \"719\"]\n",
    "    \n",
    "    # tester si tous les nombres sont circulaires\n",
    "    premier_circulaire = True \n",
    "    for nombre in nombre_circulaire:\n",
    "        nombre = int(nombre)\n",
    "        if not estPremier(nombre):\n",
    "            premier_circulaire = False            \n",
    "    return premier_circulaire\n",
    "\n",
    "estCirculairePremier(9377)"
   ]
  },
  {
   "cell_type": "code",
   "execution_count": 142,
   "id": "f249ba3e",
   "metadata": {},
   "outputs": [
    {
     "data": {
      "text/plain": [
       "False"
      ]
     },
     "execution_count": 142,
     "metadata": {},
     "output_type": "execute_result"
    }
   ],
   "source": [
    "estCirculairePremier(36)"
   ]
  },
  {
   "cell_type": "markdown",
   "id": "3b96b02b",
   "metadata": {},
   "source": [
    "## Exercice 83 - def estDistinct(nombre)"
   ]
  },
  {
   "cell_type": "code",
   "execution_count": 143,
   "id": "ce8158d0",
   "metadata": {},
   "outputs": [
    {
     "data": {
      "text/plain": [
       "True"
      ]
     },
     "execution_count": 143,
     "metadata": {},
     "output_type": "execute_result"
    }
   ],
   "source": [
    "# créer une fonction qui permet de vérifier si les chiffres d'un nombre sont distincts\n",
    "\n",
    "def estDistinct(nombre):\n",
    "    str_nombre = str(nombre)\n",
    "    \n",
    "    for i in str_nombre: # parcourir chaque élément \n",
    "        if str_nombre.count(i) >= 2: # le nombre d'occurence d'un élément est supérieur ou égal à 2\n",
    "            return False # ces chiffres ne sont pas distincts\n",
    "    return True\n",
    "    \n",
    "estDistinct(9647)"
   ]
  },
  {
   "cell_type": "code",
   "execution_count": 144,
   "id": "0d041ac6",
   "metadata": {},
   "outputs": [
    {
     "data": {
      "text/plain": [
       "False"
      ]
     },
     "execution_count": 144,
     "metadata": {},
     "output_type": "execute_result"
    }
   ],
   "source": [
    "estDistinct(1343)"
   ]
  },
  {
   "cell_type": "markdown",
   "id": "1ea20b27",
   "metadata": {},
   "source": [
    "## Exercice 84 - def codeSomme(nombre)"
   ]
  },
  {
   "cell_type": "code",
   "execution_count": 145,
   "id": "7e7b113c",
   "metadata": {},
   "outputs": [
    {
     "data": {
      "text/plain": [
       "'669810'"
      ]
     },
     "execution_count": 145,
     "metadata": {},
     "output_type": "execute_result"
    }
   ],
   "source": [
    "def codeSomme(nombre):\n",
    "    if nombre > 100:\n",
    "        somme = nombre\n",
    "        \n",
    "        while somme < 1 or somme > 9: # tant que la somme n'est pas un seul chiffre => continuer de calculer la nouvelle somme\n",
    "            str_somme = str(somme)\n",
    "            \n",
    "            somme = 0\n",
    "            for i in str_somme:\n",
    "                somme += int(i)\n",
    "    return str(somme) + str(nombre)\n",
    "\n",
    "codeSomme(69810)"
   ]
  },
  {
   "cell_type": "code",
   "execution_count": 146,
   "id": "61524d42",
   "metadata": {},
   "outputs": [
    {
     "data": {
      "text/plain": [
       "'63201'"
      ]
     },
     "execution_count": 146,
     "metadata": {},
     "output_type": "execute_result"
    }
   ],
   "source": [
    "codeSomme(3201)"
   ]
  },
  {
   "cell_type": "markdown",
   "id": "b0430345",
   "metadata": {},
   "source": [
    "## Exercice 85 - def rechercheDichotomique(L, elt)"
   ]
  },
  {
   "cell_type": "code",
   "execution_count": 147,
   "id": "bbdf8cbf",
   "metadata": {},
   "outputs": [
    {
     "data": {
      "text/plain": [
       "True"
      ]
     },
     "execution_count": 147,
     "metadata": {},
     "output_type": "execute_result"
    }
   ],
   "source": [
    "# créer une fonction qui permet de trouver un élément donnée dans la liste avec la recherche dichotomique\n",
    "# \"dichotomique\" : divisé en 2 parties\n",
    "\n",
    "def rechercheDichotomique(L, elt):\n",
    "    \n",
    "    L.sort() # trier la liste par ordre croissant\n",
    "    \n",
    "    while L: # tant que la liste n'est pas vide\n",
    "        index_milieu = len(L) // 2 # retourner un nombre entier (sans la partie décimale)\n",
    "        \n",
    "        if elt == L[index_milieu]: # si l'élément est au milieu de la liste\n",
    "            return True\n",
    "        \n",
    "        elif elt < L[index_milieu]: # si l'élément est plus petit (L[index_milieu] = 36)\n",
    "            L = L[: index_milieu] # garder les éléments plus petits, e.g. [6, 9, 15]\n",
    "            \n",
    "        else: # sinon \n",
    "            L = L[index_milieu +1 :] # garder les éléments plus grands, e.g. [41, 43, 47]\n",
    "            \n",
    "    return False\n",
    "\n",
    "rechercheDichotomique([6,9,15,36,41,43,47],41)"
   ]
  },
  {
   "cell_type": "code",
   "execution_count": 148,
   "id": "0a8fbf0c",
   "metadata": {},
   "outputs": [
    {
     "data": {
      "text/plain": [
       "False"
      ]
     },
     "execution_count": 148,
     "metadata": {},
     "output_type": "execute_result"
    }
   ],
   "source": [
    "rechercheDichotomique([-9,-1,3,4,7,11],0)"
   ]
  },
  {
   "cell_type": "markdown",
   "id": "01a7ab02",
   "metadata": {},
   "source": [
    "## Exercice 86 - Triplet pythagoricien"
   ]
  },
  {
   "cell_type": "code",
   "execution_count": 149,
   "id": "c7466f56",
   "metadata": {},
   "outputs": [
    {
     "name": "stdout",
     "output_type": "stream",
     "text": [
      "x =  200\n",
      "y =  375\n",
      "z =  425\n",
      "x + y + z = 1000\n",
      "x**2 + y**2 = 180625\n",
      "z**2 = 180625\n"
     ]
    }
   ],
   "source": [
    "# écrire un programme qui permet de trouver un unique triplet pythagoricien\n",
    "\n",
    "for x in range(1, 1000):\n",
    "    for y in range(x+1, 1000):\n",
    "        for z in range(y+1, 1000):\n",
    "            if x**2 + y**2 == z**2:\n",
    "                if x + y + z == 1000:\n",
    "                    print(\"x = \", x)\n",
    "                    print(\"y = \", y)\n",
    "                    print(\"z = \", z)\n",
    "                    print(\"x + y + z =\", x+y+z)\n",
    "                    print(\"x**2 + y**2 =\", x**2 + y**2)\n",
    "                    print(\"z**2 =\", z**2)"
   ]
  },
  {
   "cell_type": "markdown",
   "id": "adf9ddd0",
   "metadata": {},
   "source": [
    "## Exercice 87 - def traitementFichier(cheminFichier)"
   ]
  },
  {
   "cell_type": "code",
   "execution_count": 150,
   "id": "6511a558",
   "metadata": {},
   "outputs": [],
   "source": [
    "# écrire une fonction qui permet de créer un nouveau fichier à partir d'un fichier existant avec le même contenu sans \\n\n",
    "\n",
    "def traitementFichier(cheminFichier):\n",
    "    with open(cheminFichier, \"r\") as fichier1:\n",
    "        with open(\"test2.txt\", \"w\") as fichier2: # écrire dans le fichier2\n",
    "            for ligne in fichier1:\n",
    "                fichier2.write(ligne.rstrip(\"\\n\")) # supprimer les retours à la ligne            \n",
    "    \n",
    "traitementFichier(\"C:/Users/huyen/test.txt\")"
   ]
  },
  {
   "cell_type": "markdown",
   "id": "fb356ad2",
   "metadata": {},
   "source": [
    "## Exercice 88 - Tri à bulles"
   ]
  },
  {
   "cell_type": "code",
   "execution_count": 151,
   "id": "c4f2ba3b",
   "metadata": {},
   "outputs": [
    {
     "data": {
      "text/plain": [
       "[-6, 1, 1, 6, 7, 8, 9]"
      ]
     },
     "execution_count": 151,
     "metadata": {},
     "output_type": "execute_result"
    }
   ],
   "source": [
    "def triCroissant(L):\n",
    "    L.sort()\n",
    "    return L\n",
    "\n",
    "triCroissant([6,1,9,-6,1,8,7])"
   ]
  },
  {
   "cell_type": "code",
   "execution_count": 152,
   "id": "26afcb46",
   "metadata": {},
   "outputs": [
    {
     "data": {
      "text/plain": [
       "[-3, 1, 2, 2.3, 5.3, 7, 9.5]"
      ]
     },
     "execution_count": 152,
     "metadata": {},
     "output_type": "execute_result"
    }
   ],
   "source": [
    "triCroissant([-3,5.3,2,7,1,2.3,9.5])"
   ]
  },
  {
   "cell_type": "code",
   "execution_count": 153,
   "id": "87aabce4",
   "metadata": {},
   "outputs": [
    {
     "data": {
      "text/plain": [
       "[-6, 1, 1, 6, 7, 8, 9]"
      ]
     },
     "execution_count": 153,
     "metadata": {},
     "output_type": "execute_result"
    }
   ],
   "source": [
    "# créer une fonction qui permet de trier une liste par ordre croissant\n",
    "\n",
    "def triCroissant(L):\n",
    "    for i in range(len(L)):\n",
    "        for j in range(i+1, len(L)):\n",
    "            if L[i] > L[j]:\n",
    "                L[i], L[j] = L[j], L[i]\n",
    "    return L\n",
    "\n",
    "triCroissant([6,1,9,-6,1,8,7])"
   ]
  },
  {
   "cell_type": "markdown",
   "id": "6898bdad",
   "metadata": {},
   "source": [
    "# Une CLASS définit des \"attributs\" et des \"méthodes\".\n",
    "### - def __int__ : constructer pour définir des attributs\n",
    "### - \"__\" : => méthodes spéciales/ magiques/ dundér  prédéfinies par Python avec des rôles spécifiques\n",
    "### - (SELF) : permet d'accéder aux attributs et aux méthodes\n",
    "### - Il est IMPOSSIBLE de modifier les DONNÉES d'un objet. \n",
    "### - Pour modifier les ATTRIBUTS d'un objet, il faut créer des \"MUTATEURS\"\n"
   ]
  },
  {
   "cell_type": "markdown",
   "id": "65a7b385",
   "metadata": {},
   "source": [
    "## Exercice 89 - class Personne & def calculIMC(self) & def interpretationIMC(self)"
   ]
  },
  {
   "cell_type": "code",
   "execution_count": 154,
   "id": "19ed080e",
   "metadata": {},
   "outputs": [
    {
     "name": "stdout",
     "output_type": "stream",
     "text": [
      "27.2\n",
      "La personne est en surpoids ou corpulence normale.\n"
     ]
    }
   ],
   "source": [
    "# écrire une classe avec 2 fonctions qui permet de calculer l'IMC et de l'interpréter\n",
    "\n",
    "class Personne:\n",
    "    # définition de la classs\n",
    "    def __init__(self, taille, poids, age): \n",
    "        # attributs\n",
    "        self.taille = taille\n",
    "        self.poids = poids\n",
    "        self.age = age\n",
    "        \n",
    "    def calculIMC(self):\n",
    "        return round(self.poids/(self.taille**2), 1) # calculer IMC \n",
    "    \n",
    "    def interpretationIMC(self):\n",
    "        \n",
    "        if self.calculIMC() <= 18.5:\n",
    "            return \"Le résultat du calcul de l'IMC indique la personne est en insuffisance pondérale (maigreur)\"\n",
    "        \n",
    "        elif self.calculIMC() >= 30:\n",
    "            return \"La personne est obèse.\"\n",
    "        \n",
    "        else:\n",
    "            return \"La personne est en surpoids ou corpulence normale.\"\n",
    "\n",
    "julien = Personne(1.87, 95, 26)\n",
    "print(julien.calculIMC())\n",
    "print(julien.interpretationIMC())"
   ]
  },
  {
   "cell_type": "markdown",
   "id": "8f71c840",
   "metadata": {},
   "source": [
    "## Exercice 90 - class Rectangle & def Perimetre(self) & def Surface(self)"
   ]
  },
  {
   "cell_type": "code",
   "execution_count": 155,
   "id": "1a7d198b",
   "metadata": {},
   "outputs": [
    {
     "name": "stdout",
     "output_type": "stream",
     "text": [
      "La largeur du rectangle1 est 10\n",
      "La longueur du rectangle1 est 15\n",
      "Le périmètre du rectangle1 est 50\n",
      "La surface du rectangle1 est 150\n"
     ]
    }
   ],
   "source": [
    "# écrire une classe Rectangle qui permet de calculer le périmètre et la surface d'un rectangle \n",
    "\n",
    "class Rectangle:\n",
    "    def __init__(self, largeur, longueur):\n",
    "        self.largeur = largeur\n",
    "        self.longueur = longueur\n",
    "        \n",
    "    def Perimetre(self):\n",
    "        return (self.longueur + self.largeur) * 2\n",
    "    \n",
    "    def Surface(self):\n",
    "        return self.largeur * self.longueur\n",
    "    \n",
    "rectangle1 = Rectangle(10,15)\n",
    "print(\"La largeur du rectangle1 est\", rectangle1.largeur)\n",
    "print(\"La longueur du rectangle1 est\", rectangle1.longueur)\n",
    "print(\"Le périmètre du rectangle1 est\", rectangle1.Perimetre())\n",
    "print(\"La surface du rectangle1 est\", rectangle1.Surface())"
   ]
  },
  {
   "cell_type": "markdown",
   "id": "697c05e6",
   "metadata": {},
   "source": [
    "## - class Parent - héritage - class Enfant => class Enfant(Parent):\n",
    "## - class Enfant a accès à tous les attributs et les méthodes de la class Parent\n",
    "E.g. class \"Enfant\" Parallelepipede a accès à def Perimetre & def Surface de la class \"Parent\" Rectangle"
   ]
  },
  {
   "cell_type": "markdown",
   "id": "ef939885",
   "metadata": {},
   "source": [
    "## Exercice 91 - class Parallelepipede(Rectangle) & def Volume(self)"
   ]
  },
  {
   "cell_type": "code",
   "execution_count": 156,
   "id": "b4df3386",
   "metadata": {},
   "outputs": [
    {
     "name": "stdout",
     "output_type": "stream",
     "text": [
      "Le périmètre de parallelepipede1 est  28\n",
      "Le volume de parallelepipede1 est  90\n"
     ]
    }
   ],
   "source": [
    "# écrire une classe Parallelepipede qui hérite de la classe Rectangle et la méthode Volume\n",
    "\n",
    "class Parallelepipede(Rectangle):\n",
    "    \n",
    "    def __init__(self, largeur, longueur, hauteur):\n",
    "        Rectangle.__init__(self, largeur, longueur) # initialisation dse attributs de la classe Parent \"Rectangle\"\n",
    "        self.hauteur = hauteur\n",
    "\n",
    "    def Volume(self):\n",
    "        return self.largeur * self.longueur * self.hauteur\n",
    "\n",
    "parallelepipede1 = Parallelepipede(9,5,2)\n",
    "print(\"Le périmètre de parallelepipede1 est \", parallelepipede1.Perimetre())\n",
    "print(\"Le volume de parallelepipede1 est \", parallelepipede1.Volume())"
   ]
  },
  {
   "cell_type": "markdown",
   "id": "ec55b5c2",
   "metadata": {},
   "source": [
    "## Exercice 92 - class CompteBancaire & def depot() & def retrait()"
   ]
  },
  {
   "cell_type": "code",
   "execution_count": 157,
   "id": "1461d41e",
   "metadata": {},
   "outputs": [
    {
     "name": "stdout",
     "output_type": "stream",
     "text": [
      "Le solde du compte bancaire de Julie est de 1300 euros\n",
      "Le solde du compte bancaire de Maxime est de 1100 euros\n"
     ]
    }
   ],
   "source": [
    "class CompteBancaire:\n",
    "    \n",
    "    def __init__(self, nom = \"Maxime\", solde = 600):\n",
    "        self.nom = nom\n",
    "        self.solde = solde\n",
    "    \n",
    "    def depot(self, somme):\n",
    "        self.solde += somme        \n",
    "        \n",
    "    def retrait(self, somme):\n",
    "        self.solde -= somme\n",
    "    \n",
    "    def __repr__(self): #  une méthode spéciale pour définir sous forme de chaine des objets\n",
    "        return \"Le solde du compte bancaire de \"+ self.nom +\" est de \"+ str(self.solde)+\" euros\"\n",
    "    \n",
    "compte1 = CompteBancaire(\"Julie\", 1000)\n",
    "compte1.depot(400)\n",
    "compte1.retrait(100)\n",
    "print(compte1)\n",
    "\n",
    "compte2 = CompteBancaire()\n",
    "compte2.depot(500)\n",
    "print(compte2)"
   ]
  },
  {
   "cell_type": "markdown",
   "id": "90cc9773",
   "metadata": {},
   "source": [
    "## Exercice 93 - class Voiture() &  def choixConducteur() &  def distanceCirculation() & def afficherInfo()"
   ]
  },
  {
   "cell_type": "code",
   "execution_count": 158,
   "id": "9a92d7c7",
   "metadata": {},
   "outputs": [
    {
     "data": {
      "text/plain": [
       "'La voiture peugeot de couleur noir dont le conducteur est Aucun possède un kilométrage actuel de 20000 km.'"
      ]
     },
     "execution_count": 158,
     "metadata": {},
     "output_type": "execute_result"
    }
   ],
   "source": [
    "class Voiture():\n",
    "    \n",
    "    def __init__(self, marque = \"peugeot\", couleur = \"noir\", nomConducteur = \"Aucun\", kmDebut = 16900):\n",
    "        self.marque = marque\n",
    "        self.couleur = couleur\n",
    "        self.nomConducteur = nomConducteur\n",
    "        self.kmDebut = kmDebut\n",
    "        \n",
    "    def choixConducteur(self, nomConducteur):\n",
    "        #self.nomConducteur = nomConducteur\n",
    "        return self.nomConducteur\n",
    "    \n",
    "    def distanceCirculation(self, kmFin):\n",
    "        return kmFin - self.kmDebut # calculer la distance parcourue\n",
    "    \n",
    "    def afficherInfo(self):\n",
    "        kmActuel = self.distanceCirculation(20000) + self.kmDebut # calculer la distance actuelle\n",
    "        return \"La voiture \"+self.marque+\" de couleur \"+self.couleur+\" dont le conducteur est \"+self.nomConducteur+\" possède un kilométrage actuel de \"+str(kmActuel)+\" km.\"\n",
    "\n",
    "voiture1 = Voiture()\n",
    "voiture1.choixConducteur(\"Patrick\")\n",
    "voiture1.distanceCirculation(20000)\n",
    "voiture1.afficherInfo()"
   ]
  },
  {
   "cell_type": "markdown",
   "id": "a5aba9aa",
   "metadata": {},
   "source": [
    "## Exercice 94 - class Point2D & def add/ sub/ mul/ truediv"
   ]
  },
  {
   "cell_type": "code",
   "execution_count": 3,
   "id": "abc59ae9",
   "metadata": {},
   "outputs": [
    {
     "name": "stdout",
     "output_type": "stream",
     "text": [
      "p1 + p2 =  (4, 6)\n",
      "p1 - p2 =  (2, -2)\n",
      "p1 * p2 =  (3, 8)\n",
      "p1 / p2 =  (3.0, 0.5)\n"
     ]
    }
   ],
   "source": [
    "# la surcharge d'opérateur permet de redéfinir un opérateur dans une class\n",
    "\n",
    "class Point2D:\n",
    "    \n",
    "    def __init__(self, x, y):\n",
    "        self.x = x\n",
    "        self.y = y\n",
    "        \n",
    "    def __add__(self, p):\n",
    "        return self.x + p.x, self.y + p.y\n",
    "    \n",
    "    def __sub__(self, p):\n",
    "        return self.x - p.x, self.y - p.y\n",
    "    \n",
    "    def __mul__(self, p):\n",
    "        return self.x * p.x, self.y * p.y\n",
    "    \n",
    "    def __truediv__(self, p):\n",
    "        return self.x / p.x, self.y / p.y\n",
    "    \n",
    "p1 = Point2D(3,2)\n",
    "p2 = Point2D(1,4)\n",
    "print(\"p1 + p2 = \", p1 + p2)\n",
    "print(\"p1 - p2 = \", p1 - p2)\n",
    "print(\"p1 * p2 = \", p1 * p2)\n",
    "print(\"p1 / p2 = \", p1 / p2)"
   ]
  },
  {
   "cell_type": "markdown",
   "id": "0aa63fef",
   "metadata": {},
   "source": [
    "### - __str__(self) : renvoyer une représentation sous forme de str de l'objet, appelée par la fonction str() et print()\n",
    "### - __repr__(self) : renvoyer une représentation de l'objet qui devrait être sans ambiguïté, appelée par repr()\n",
    "### - __eq__(self, other) : comparer l'égalité entre deux objets, appelée par l'opérateur =="
   ]
  },
  {
   "cell_type": "markdown",
   "id": "0796a799",
   "metadata": {},
   "source": [
    "## Exercice 95 : class NombreComplexe & def __str__ & def __repr__"
   ]
  },
  {
   "cell_type": "code",
   "execution_count": 9,
   "id": "ee55e6eb",
   "metadata": {},
   "outputs": [
    {
     "name": "stdout",
     "output_type": "stream",
     "text": [
      "2 + 7i\n"
     ]
    }
   ],
   "source": [
    "## nombre complexe = composante réelle + composante imaginaire\n",
    "\n",
    "class NombreComplexe:\n",
    "    \n",
    "    def __init__(self, reel, img):\n",
    "        self.reel = reel\n",
    "        self.img = img\n",
    "        \n",
    "    def __str__(self):\n",
    "        return str(self.reel) + \" + \" + str(self.img) + \"i\"\n",
    "        \n",
    "    def __repr__(self): # utilisé à la place de \"def __str__\" si elle n'existe pas dans la classe\n",
    "        return str(self.reel) + \" + \" + str(self.img) + \"i\"\n",
    "        \n",
    "nbr1 = NombreComplexe(2,7)\n",
    "print(nbr1)"
   ]
  },
  {
   "cell_type": "markdown",
   "id": "857a804b",
   "metadata": {},
   "source": [
    "## Exercice 96 - class ListePerson & def append"
   ]
  },
  {
   "cell_type": "code",
   "execution_count": 13,
   "id": "065c9cef",
   "metadata": {},
   "outputs": [
    {
     "name": "stdout",
     "output_type": "stream",
     "text": [
      "[5, 2, 3, 7, 9]\n",
      "[5, 2, 3, 7, 9, 10]\n"
     ]
    }
   ],
   "source": [
    "class ListePerson:\n",
    "    # \" *nombres\" :  recevoir un nombre variable d'arguments positionnels. Les arguments seront regroupés dans un tuple []\n",
    "    def __init__(self, *nombres):\n",
    "        self.nombres = []\n",
    "        for nombre in nombres:\n",
    "            self.nombres.append(nombre) # rajouter chaque élément à une liste\n",
    "    \n",
    "    def append(self, nombre):\n",
    "        if type(nombre) == int or type(nombre) == float: # si l'élément est un entier ou un décimal (pas de str or booléen)\n",
    "            if nombre not in self.nombres: # pour ne pas avoir des doublons\n",
    "                self.nombres.append(nombre) # rajouter à la liste\n",
    "            else:\n",
    "                return f\"Le nombre {nombre} existe déjà dans la liste {self}\"\n",
    "    \n",
    "    def __repr__(self):\n",
    "        return f\"{self.nombres}\" # surcharger la représentation\n",
    "\n",
    "    def __str__(self):\n",
    "        return f\"{self.nombres}\"\n",
    "\n",
    "    \n",
    "L1 = ListePerson(5,2,3,7,9)\n",
    "print(L1)\n",
    "L1.append(2)\n",
    "L1.append(\"abc\")\n",
    "L1.append(10)\n",
    "print(L1)"
   ]
  },
  {
   "cell_type": "markdown",
   "id": "b8a822f4",
   "metadata": {},
   "source": [
    "## Exercice 97 - class StrPerso & def __add__"
   ]
  },
  {
   "cell_type": "code",
   "execution_count": 23,
   "id": "40db8dea",
   "metadata": {},
   "outputs": [
    {
     "name": "stdout",
     "output_type": "stream",
     "text": [
      "L'instance ne doit contenir que des lettres alphabétiques.\n",
      "Le caractère \",\" sera supprimé.\n"
     ]
    },
    {
     "data": {
      "text/plain": [
       "'Bonjour ça va'"
      ]
     },
     "execution_count": 23,
     "metadata": {},
     "output_type": "execute_result"
    }
   ],
   "source": [
    "import string\n",
    "\n",
    "liste_caracteres = list(string.digits) + [\",\",\".\"] # pas 123 ou , ou .\n",
    "\n",
    "class StrPerso: \n",
    "    \n",
    "    def __init__(self, chaine):\n",
    "        liste_chaine = list(chaine) # convertir la str en liste\n",
    "        \n",
    "        for i in liste_chaine: # parcourir chaque élément de la liste\n",
    "            if i in liste_caracteres: # si l'élément n'existe pas dans la liste de caractères non autorisés\n",
    "                print(\"L'instance ne doit contenir que des lettres alphabétiques.\")\n",
    "                print(f\"Le caractère \\\"{i}\\\" sera supprimé.\")\n",
    "                chaine = chaine.replace(i, \"\") # supprimer le caractère non autorisé\n",
    "                \n",
    "        self.chaine = chaine\n",
    "    \n",
    "    def __add__(self, nouvelle_chaine):\n",
    "        if nouvelle_chaine in liste_caracteres:\n",
    "            return f\"Vous ne pouvez pas rajouter de \\\"{nouvelle_chaine}\\\" à la chaine.\"\n",
    "        else:\n",
    "            self.chaine += nouvelle_chaine            \n",
    "        return self.chaine\n",
    "        \n",
    "    def __repr__(self):        \n",
    "         return self.chaine\n",
    "    \n",
    "chaine1 = StrPerso(\"Bon,jour\")\n",
    "chaine1 + \",\"\n",
    "chaine1 + \".\"\n",
    "chaine2 = chaine1 + \" ça va\"\n",
    "chaine2"
   ]
  }
 ],
 "metadata": {
  "kernelspec": {
   "display_name": "Python 3 (ipykernel)",
   "language": "python",
   "name": "python3"
  },
  "language_info": {
   "codemirror_mode": {
    "name": "ipython",
    "version": 3
   },
   "file_extension": ".py",
   "mimetype": "text/x-python",
   "name": "python",
   "nbconvert_exporter": "python",
   "pygments_lexer": "ipython3",
   "version": "3.11.5"
  }
 },
 "nbformat": 4,
 "nbformat_minor": 5
}
