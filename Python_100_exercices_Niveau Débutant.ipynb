{
 "cells": [
  {
   "cell_type": "markdown",
   "id": "62b77363",
   "metadata": {},
   "source": [
    "# Niveau Débutant - 33 exercices"
   ]
  },
  {
   "cell_type": "markdown",
   "id": "c7ae1dc5",
   "metadata": {},
   "source": [
    "# DAY 1"
   ]
  },
  {
   "cell_type": "markdown",
   "id": "4cf3651e",
   "metadata": {},
   "source": [
    "## Exercice 1 - print()"
   ]
  },
  {
   "cell_type": "code",
   "execution_count": 5,
   "id": "8fda6659",
   "metadata": {},
   "outputs": [
    {
     "name": "stdout",
     "output_type": "stream",
     "text": [
      "1 France 36.2\n",
      "1\n",
      "France\n",
      "36.2\n"
     ]
    }
   ],
   "source": [
    "# afficher les valeurs des variables\n",
    "a = 1\n",
    "b = \"France\"\n",
    "c = 36.2\n",
    "\n",
    "print(a, b, c)\n",
    "\n",
    "print(a)\n",
    "print(b)\n",
    "print(c)"
   ]
  },
  {
   "cell_type": "markdown",
   "id": "5ac14a71",
   "metadata": {},
   "source": [
    "## Exercice 2"
   ]
  },
  {
   "cell_type": "code",
   "execution_count": 6,
   "id": "6f6b1585",
   "metadata": {},
   "outputs": [
    {
     "name": "stdout",
     "output_type": "stream",
     "text": [
      "ça va\n"
     ]
    }
   ],
   "source": [
    "# afficher le contenu de la variable après modification\n",
    "ch = \"salut\"\n",
    "ch = \"ça va\"\n",
    "\n",
    "print(ch)"
   ]
  },
  {
   "cell_type": "markdown",
   "id": "03c1719d",
   "metadata": {},
   "source": [
    "## Exercice 3 : str() - int() - float() & type()"
   ]
  },
  {
   "cell_type": "code",
   "execution_count": 10,
   "id": "a9ad686f",
   "metadata": {},
   "outputs": [
    {
     "name": "stdout",
     "output_type": "stream",
     "text": [
      "<class 'str'>\n"
     ]
    }
   ],
   "source": [
    "# afficher le type des variables après conversion en chaîne de caractère\n",
    "x = 3\n",
    "y = 8.5\n",
    "\n",
    "x = str(x) # ou int() float()\n",
    "y = str(y)\n",
    "\n",
    "type(x)\n",
    "type(y)"
   ]
  },
  {
   "cell_type": "markdown",
   "id": "c4905cfb",
   "metadata": {},
   "source": [
    "## Exercice 4 : input(\" \")"
   ]
  },
  {
   "cell_type": "code",
   "execution_count": 14,
   "id": "5a3efee3",
   "metadata": {},
   "outputs": [
    {
     "name": "stdout",
     "output_type": "stream",
     "text": [
      "Combien pesez-vous en kg ? 52\n",
      "Le poids de l'utilisateur est 52 kg.\n"
     ]
    }
   ],
   "source": [
    "# afficher le poids saisi par l'utilisateur\n",
    "poids = input(\"Combien pesez-vous en kg ? \") # type : str\n",
    "print(\"Le poids de l'utilisateur est\", poids, \"kg.\")"
   ]
  },
  {
   "cell_type": "markdown",
   "id": "e1bcad4f",
   "metadata": {},
   "source": [
    "## Exercice 5 : type()"
   ]
  },
  {
   "cell_type": "code",
   "execution_count": 22,
   "id": "1fc74b27",
   "metadata": {},
   "outputs": [
    {
     "name": "stdout",
     "output_type": "stream",
     "text": [
      "Chaîne de caractères\n"
     ]
    }
   ],
   "source": [
    "# afficher \"Entier\" ou \"Chaîne de caractères\" en fonction du type de la variable\n",
    "var = \"Bonjour\"\n",
    "\n",
    "if type(var) == int:\n",
    "    print(\"Entier\")\n",
    "elif type(var) == str:\n",
    "    print(\"Chaîne de caractères\")"
   ]
  },
  {
   "cell_type": "markdown",
   "id": "ea98f281",
   "metadata": {},
   "source": [
    "# DAY 2"
   ]
  },
  {
   "cell_type": "markdown",
   "id": "ab9cfc83",
   "metadata": {},
   "source": [
    "## Exercice 6 - if else"
   ]
  },
  {
   "cell_type": "code",
   "execution_count": 2,
   "id": "88f19ba9",
   "metadata": {},
   "outputs": [
    {
     "name": "stdout",
     "output_type": "stream",
     "text": [
      "Positive\n"
     ]
    }
   ],
   "source": [
    "#  afficher \"Positive\" ou \"Négative\" en fonction de la valeur de la variable\n",
    "d = 5\n",
    "\n",
    "if d >= 0:\n",
    "    print(\"Positive\")\n",
    "else:\n",
    "    print(\"Négative\")"
   ]
  },
  {
   "cell_type": "markdown",
   "id": "17f12fb9",
   "metadata": {},
   "source": [
    "## Exercice 7 : int() & if else"
   ]
  },
  {
   "cell_type": "code",
   "execution_count": 1,
   "id": "efbbb4c1",
   "metadata": {},
   "outputs": [
    {
     "name": "stdout",
     "output_type": "stream",
     "text": [
      "Quel âge avez-vous ? 20\n",
      "L'utilisateur est majeur\n"
     ]
    }
   ],
   "source": [
    "# afficher \"L'utilisateur est majeur\" ou \"L'utilisateur est mineur\" en fonction de l'âge de l'utilisateur\n",
    "age = input(\"Quel âge avez-vous ? \")\n",
    "\n",
    "age = int(age)\n",
    "\n",
    "if age >= 18:\n",
    "    print(\"L'utilisateur est majeur\")\n",
    "else:\n",
    "    print(\"L'utilisateur est mineur\")"
   ]
  },
  {
   "cell_type": "markdown",
   "id": "872a058b",
   "metadata": {},
   "source": [
    "## Exercice 8 : boucle \"for\" & \"while\""
   ]
  },
  {
   "cell_type": "code",
   "execution_count": 4,
   "id": "c673aa00",
   "metadata": {},
   "outputs": [
    {
     "name": "stdout",
     "output_type": "stream",
     "text": [
      "1\n",
      "2\n",
      "3\n",
      "4\n",
      "5\n",
      "6\n",
      "7\n",
      "8\n",
      "9\n",
      "10\n",
      "11\n",
      "12\n",
      "13\n",
      "14\n",
      "15\n",
      "16\n",
      "17\n",
      "18\n",
      "19\n",
      "20\n"
     ]
    }
   ],
   "source": [
    "# afficher les nombres de 1 à 20\n",
    "\n",
    "# la boucle \"for\" permet d'exécuter un semble d'instructions un nombre de fois bien défini, e.g de 1 à 21\n",
    "# la fonction \"range(début, fin, pas)\" fournit une séquence de nombres entiers entre début et fin-1, par défaut le pas est 1\n",
    "\n",
    "for i in range(1,21):\n",
    "    print(i)"
   ]
  },
  {
   "cell_type": "code",
   "execution_count": 1,
   "id": "6b25b427",
   "metadata": {},
   "outputs": [
    {
     "name": "stdout",
     "output_type": "stream",
     "text": [
      "1\n",
      "2\n",
      "3\n",
      "4\n",
      "5\n",
      "6\n",
      "7\n",
      "8\n",
      "9\n",
      "10\n",
      "11\n",
      "12\n",
      "13\n",
      "14\n",
      "15\n",
      "16\n",
      "17\n",
      "18\n",
      "19\n",
      "20\n"
     ]
    }
   ],
   "source": [
    "# la boucle \"while\" permet d'exécuter un semble d'instructions tant qu'une condition est satisfaite\n",
    "compteur = 1\n",
    "\n",
    "while compteur <= 20:\n",
    "    print(compteur)\n",
    "    compteur +=1"
   ]
  },
  {
   "cell_type": "markdown",
   "id": "b1106080",
   "metadata": {},
   "source": [
    "## Exercice 9 : for & nombres impairs"
   ]
  },
  {
   "cell_type": "code",
   "execution_count": 4,
   "id": "a04ba91c",
   "metadata": {},
   "outputs": [
    {
     "name": "stdout",
     "output_type": "stream",
     "text": [
      "11\n",
      "13\n",
      "15\n",
      "17\n",
      "19\n"
     ]
    }
   ],
   "source": [
    "# afficher les nombres impairs entre 10 et 20\n",
    "for i in range(10,20):\n",
    "    if i%2 == 1:\n",
    "        print(i)"
   ]
  },
  {
   "cell_type": "code",
   "execution_count": 2,
   "id": "5e53e457",
   "metadata": {
    "scrolled": true
   },
   "outputs": [
    {
     "name": "stdout",
     "output_type": "stream",
     "text": [
      "11\n",
      "13\n",
      "15\n",
      "17\n",
      "19\n"
     ]
    }
   ],
   "source": [
    "compteur = 10\n",
    "while compteur <= 20:\n",
    "    if compteur%2 == 1:\n",
    "        print(compteur)\n",
    "    compteur +=1"
   ]
  },
  {
   "cell_type": "markdown",
   "id": "64602853",
   "metadata": {},
   "source": [
    "## Exercice 10 : Compréhension de liste"
   ]
  },
  {
   "cell_type": "code",
   "execution_count": 4,
   "id": "f89e6ad4",
   "metadata": {},
   "outputs": [
    {
     "name": "stdout",
     "output_type": "stream",
     "text": [
      "[1, 2, 3, 4, 5, 6, 7, 8, 9, 10]\n"
     ]
    }
   ],
   "source": [
    "# une liste en compréhension permet de créer une liste en une seule expression\n",
    "liste = [i for i in range(1,11)]\n",
    "print(liste)"
   ]
  },
  {
   "cell_type": "markdown",
   "id": "909a1fe9",
   "metadata": {},
   "source": [
    "## Exercice 11 : Compréhension de liste de nombres pairs"
   ]
  },
  {
   "cell_type": "code",
   "execution_count": 6,
   "id": "a1c44ed2",
   "metadata": {},
   "outputs": [
    {
     "name": "stdout",
     "output_type": "stream",
     "text": [
      "[2, 4, 6, 8, 10]\n"
     ]
    }
   ],
   "source": [
    "# créer une compréhension de liste de nombre pairs de 1 à 10\n",
    "liste = [i for i in range(1,11) if i%2 == 0]\n",
    "print(liste)"
   ]
  },
  {
   "cell_type": "markdown",
   "id": "2a00c776",
   "metadata": {},
   "source": [
    "## Exercice 12 : sort() & sort(reverse = True)"
   ]
  },
  {
   "cell_type": "code",
   "execution_count": 9,
   "id": "488725bf",
   "metadata": {},
   "outputs": [
    {
     "name": "stdout",
     "output_type": "stream",
     "text": [
      "[1, 2, 3, 4, 6, 8, 9.2, 12]\n"
     ]
    }
   ],
   "source": [
    "# ordonner les nombres de la liste par ordre croissant\n",
    "L = [6, 8, 3, 4, 1, 12, 2, 9.2]\n",
    "L.sort()\n",
    "print(L)"
   ]
  },
  {
   "cell_type": "code",
   "execution_count": 11,
   "id": "6892b4dd",
   "metadata": {},
   "outputs": [
    {
     "name": "stdout",
     "output_type": "stream",
     "text": [
      "[12, 9.2, 8, 6, 4, 3, 2, 1]\n"
     ]
    }
   ],
   "source": [
    "# ordonner les nombres de la liste par ordre décroissant\n",
    "L = [6, 8, 3, 4, 1, 12, 2, 9.2]\n",
    "L.sort(reverse= True)\n",
    "print(L)"
   ]
  },
  {
   "cell_type": "markdown",
   "id": "e309b944",
   "metadata": {},
   "source": [
    "## Exercice 13 : count()"
   ]
  },
  {
   "cell_type": "code",
   "execution_count": 13,
   "id": "249b9c35",
   "metadata": {},
   "outputs": [
    {
     "name": "stdout",
     "output_type": "stream",
     "text": [
      "2\n"
     ]
    }
   ],
   "source": [
    "# La méthode \"count\" renvoie le nombre d'occurrence d'un élément dans une liste\n",
    "L = [3, 2, 2, 1, 9, 1, 2, 3, 7]\n",
    "print(L.count(1))"
   ]
  },
  {
   "cell_type": "markdown",
   "id": "f2002853",
   "metadata": {},
   "source": [
    "## Exercice 14 : list += & append()"
   ]
  },
  {
   "cell_type": "code",
   "execution_count": 16,
   "id": "59249b8b",
   "metadata": {},
   "outputs": [
    {
     "name": "stdout",
     "output_type": "stream",
     "text": [
      "[10, 25, 30, 45, 90, 'ab', 'cd', 'ef']\n"
     ]
    }
   ],
   "source": [
    "# rajouter des nouveaux éléments à une liste vide\n",
    "L = []\n",
    "L += [10, 25, 30, 45, 90, \"ab\", \"cd\", \"ef\"]\n",
    "print(L)"
   ]
  },
  {
   "cell_type": "code",
   "execution_count": 17,
   "id": "577587a9",
   "metadata": {},
   "outputs": [
    {
     "name": "stdout",
     "output_type": "stream",
     "text": [
      "[10, 25, 30, 45, 90, 'ab', 'cd', 'ef']\n"
     ]
    }
   ],
   "source": [
    "# la méthode \"append\" permet de rajouter 1 élément à la fin d'une liste\n",
    "L = []\n",
    "rajouter = [10, 25, 30, 45, 90, \"ab\", \"cd\", \"ef\"]\n",
    "\n",
    "for i in rajouter:\n",
    "    L.append(i)\n",
    "print(L)"
   ]
  },
  {
   "cell_type": "markdown",
   "id": "6b66a086",
   "metadata": {},
   "source": [
    "## Exercice 15 : len() & append()"
   ]
  },
  {
   "cell_type": "code",
   "execution_count": 26,
   "id": "6ec8c244",
   "metadata": {},
   "outputs": [
    {
     "name": "stdout",
     "output_type": "stream",
     "text": [
      "[1, 4, 7, 10]\n"
     ]
    }
   ],
   "source": [
    "# créer une nouvelle liste L1 qui récupère un élément sur 3 dans la liste L\n",
    "L = [i for i in range(1,11)]\n",
    "\n",
    "L1 = []\n",
    "for i in range(len(L)):\n",
    "    if i%3 == 0:\n",
    "        L1.append(L[i])\n",
    "        \n",
    "print(L1)"
   ]
  },
  {
   "cell_type": "markdown",
   "id": "7172eaf6",
   "metadata": {},
   "source": [
    "# DAY 3"
   ]
  },
  {
   "cell_type": "markdown",
   "id": "3b06cde2",
   "metadata": {},
   "source": [
    "## Exercice 16 - sorted() & join()"
   ]
  },
  {
   "cell_type": "code",
   "execution_count": 6,
   "id": "610de8eb",
   "metadata": {},
   "outputs": [
    {
     "name": "stdout",
     "output_type": "stream",
     "text": [
      "acefnr\n"
     ]
    }
   ],
   "source": [
    "# trier une str en ordre alphabétique\n",
    "c = \"france\"\n",
    "\n",
    "# la fonction \"sorted\" permet d'ordonner les caractèreS de la str par ordre croissant ['a', 'c', 'e', 'f', 'n', 'r']\n",
    "c = sorted(c)\n",
    "\n",
    "# convertir la liste ne str\n",
    "c = \"\".join(c)\n",
    "\n",
    "print(c)"
   ]
  },
  {
   "cell_type": "code",
   "execution_count": 8,
   "id": "14d4fc5c",
   "metadata": {},
   "outputs": [
    {
     "name": "stdout",
     "output_type": "stream",
     "text": [
      "['r', 'n', 'f', 'e', 'c', 'a']\n"
     ]
    }
   ],
   "source": [
    "c = \"france\"\n",
    "\n",
    "# ordonner la str par ordre décroissant \n",
    "c = sorted(c, reverse = True)\n",
    "\n",
    "print(c)"
   ]
  },
  {
   "cell_type": "markdown",
   "id": "ce4a8aa5",
   "metadata": {},
   "source": [
    "## Exercice 17 : union() & intersection()"
   ]
  },
  {
   "cell_type": "code",
   "execution_count": 12,
   "id": "c00cc0d6",
   "metadata": {},
   "outputs": [
    {
     "name": "stdout",
     "output_type": "stream",
     "text": [
      "[9, 3, 'p', 'b']\n"
     ]
    }
   ],
   "source": [
    "L1 = [9, 8, 7, 14, 3, 2, \"a\", \"p\", \"bonjour\", \"b\"]\n",
    "L2 = [\"b\", 1, 9.2, 6, 3, 9, \"p\"]\n",
    "\n",
    "# combiner L1 & L2 ensuite la méthode \"intersection\" permet d'obtenir les éléments en commun {9, 3, 'p', 'b'}\n",
    "L3 = set(L2).intersection(set(L1))\n",
    "\n",
    "# convertir L3 en liste\n",
    "L3 = list(L3)\n",
    "\n",
    "print(L3)    "
   ]
  },
  {
   "cell_type": "code",
   "execution_count": 47,
   "id": "d054607d",
   "metadata": {},
   "outputs": [
    {
     "name": "stdout",
     "output_type": "stream",
     "text": [
      "{1, 2, 3, 'bonjour', 6, 7, 8, 9, 'b', 9.2, 14, 'a', 'p'}\n"
     ]
    }
   ],
   "source": [
    "# la méthode \"union\" permet de ombiner L1 & L2\n",
    "L1 = [9,8,7,14,3,2,\"a\",\"p\",\"bonjour\",\"b\"]\n",
    "L2 = [\"b\",1,9.2,6,3,9,\"p\"]\n",
    "\n",
    "L3 = set(L1).union(set(L2))\n",
    "\n",
    "print(L3)"
   ]
  },
  {
   "cell_type": "code",
   "execution_count": 14,
   "id": "682d3472",
   "metadata": {},
   "outputs": [
    {
     "name": "stdout",
     "output_type": "stream",
     "text": [
      "{1, 2, 'bonjour', 6, 7, 8, 9.2, 14, 'a'}\n"
     ]
    }
   ],
   "source": [
    "L1 = [9,8,7,14,3,2,\"a\",\"p\",\"bonjour\",\"b\"]\n",
    "L2 = [\"b\",1,9.2,6,3,9,\"p\"]\n",
    "\n",
    "# combiner L1 & L2 ensuite la méthode \"symmetric_difference\" permet d'obtenir les éléments différents\n",
    "L3 = set(L2).symmetric_difference(set(L1))\n",
    "\n",
    "print(L3)"
   ]
  },
  {
   "cell_type": "markdown",
   "id": "8b0859fa",
   "metadata": {},
   "source": [
    "## Exercice 18 : key = lambda x : x"
   ]
  },
  {
   "cell_type": "code",
   "execution_count": 17,
   "id": "785b9157",
   "metadata": {},
   "outputs": [
    {
     "name": "stdout",
     "output_type": "stream",
     "text": [
      "[('Pêche', 2), ('Banane', 8), ('Kiwi', 9), ('Fraise', 12), ('Pomme', 15)]\n"
     ]
    }
   ],
   "source": [
    "# ordonner la liste selon le 2ème élément des tuples\n",
    "L = [(\"Pomme\",15), (\"Banane\",8), (\"Fraise\",12), (\"Kiwi\",9), (\"Pêche\",2)]\n",
    "\n",
    "# paramètre \"key\" permet de spécifier une fonction qui sera utilisée\n",
    "# \"lambda x : x[1]\" : Cette fonction prend un élément x de la liste et renvoie x[1] ou le 2ème élément des tuples\n",
    "L.sort(key = lambda x : x[1])\n",
    "\n",
    "print(L)"
   ]
  },
  {
   "cell_type": "markdown",
   "id": "f63779cd",
   "metadata": {},
   "source": [
    "## Exercice 19 : str[début:fin:pas]"
   ]
  },
  {
   "cell_type": "code",
   "execution_count": 20,
   "id": "b1737526",
   "metadata": {},
   "outputs": [
    {
     "name": "stdout",
     "output_type": "stream",
     "text": [
      "ednom el tuot ruojnoB\n"
     ]
    }
   ],
   "source": [
    "# inverser la str\n",
    "ch = \"Bonjour tout le monde\"\n",
    "\n",
    "# str[début:fin:pas] : ch[::-1] => pas = -1 sans index de début et de fin => inverser la str\n",
    "ch = ch[::-1]\n",
    "\n",
    "print(ch)"
   ]
  },
  {
   "cell_type": "markdown",
   "id": "bf8f8118",
   "metadata": {},
   "source": [
    "## Exercice 20 : dictionnary.keys()"
   ]
  },
  {
   "cell_type": "code",
   "execution_count": 32,
   "id": "0ab34b3b",
   "metadata": {
    "scrolled": true
   },
   "outputs": [
    {
     "name": "stdout",
     "output_type": "stream",
     "text": [
      "3\n",
      "7\n"
     ]
    }
   ],
   "source": [
    "# afficher les valeurs des clés\n",
    "dictionnaire = {\"Pomme\":3, \"Banane\":7, \"Kiwi\":1}\n",
    "\n",
    "print(dictionnaire[\"Pomme\"])\n",
    "print(dictionnaire[\"Banane\"])"
   ]
  },
  {
   "cell_type": "code",
   "execution_count": 33,
   "id": "f8d7e333",
   "metadata": {},
   "outputs": [
    {
     "data": {
      "text/plain": [
       "dict_keys(['Pomme', 'Banane', 'Kiwi'])"
      ]
     },
     "execution_count": 33,
     "metadata": {},
     "output_type": "execute_result"
    }
   ],
   "source": [
    "dictionnaire = {\"Pomme\":3, \"Banane\":7, \"Kiwi\":1}\n",
    "keys = dictionnaire.keys()\n",
    "keys"
   ]
  },
  {
   "cell_type": "markdown",
   "id": "272216d8",
   "metadata": {},
   "source": [
    "## Exercice 21 : sum & dictionnary.values()"
   ]
  },
  {
   "cell_type": "code",
   "execution_count": 28,
   "id": "d0e837c2",
   "metadata": {},
   "outputs": [
    {
     "data": {
      "text/plain": [
       "46"
      ]
     },
     "execution_count": 28,
     "metadata": {},
     "output_type": "execute_result"
    }
   ],
   "source": [
    "dictionnaire = {\"Pomme\":15, \"Banane\":8, \"Fraise\":12, \"Kiwi\":9, \"Pêche\":2}\n",
    "\n",
    "# sommer les valeurs du dictionnaire\n",
    "somme = sum(dictionnaire.values())\n",
    "somme"
   ]
  },
  {
   "cell_type": "markdown",
   "id": "fa07f263",
   "metadata": {},
   "source": [
    "## Exercice 22  - round() & format()"
   ]
  },
  {
   "cell_type": "code",
   "execution_count": 35,
   "id": "1ca9cd8e",
   "metadata": {},
   "outputs": [
    {
     "data": {
      "text/plain": [
       "float"
      ]
     },
     "execution_count": 35,
     "metadata": {},
     "output_type": "execute_result"
    }
   ],
   "source": [
    "n = 187.632587\n",
    "n = round(n,2)\n",
    "n"
   ]
  },
  {
   "cell_type": "code",
   "execution_count": 34,
   "id": "a7f227f3",
   "metadata": {},
   "outputs": [
    {
     "data": {
      "text/plain": [
       "187.63"
      ]
     },
     "execution_count": 34,
     "metadata": {},
     "output_type": "execute_result"
    }
   ],
   "source": [
    "n = 187.632587\n",
    "\n",
    "# la méthode \"format\" permet de formater \n",
    "# {:.2f} => garder 2 chiffres après la virgule\n",
    "n = float(\"{:.2f}\".format(n))\n",
    "n"
   ]
  },
  {
   "cell_type": "markdown",
   "id": "0c723001",
   "metadata": {},
   "source": [
    "## Exercice 23 - f\"...{}\""
   ]
  },
  {
   "cell_type": "code",
   "execution_count": 39,
   "id": "256371e8",
   "metadata": {},
   "outputs": [
    {
     "data": {
      "text/plain": [
       "\"Je m'appelle Julien et j'ai 32 ans. J'apprends le langage Python.\""
      ]
     },
     "execution_count": 39,
     "metadata": {},
     "output_type": "execute_result"
    }
   ],
   "source": [
    "monNom = \"Julien\"\n",
    "age = 32\n",
    "nomLangage = \"Python\"\n",
    "\n",
    "str = f\"Je m'appelle {monNom} et j'ai {age} ans. J'apprends le langage {nomLangage}.\"\n",
    "str"
   ]
  },
  {
   "cell_type": "code",
   "execution_count": 40,
   "id": "1546e811",
   "metadata": {},
   "outputs": [
    {
     "data": {
      "text/plain": [
       "\"Je m'appelle Julien et j'ai 32 ans. J'apprends le langage Python.\""
      ]
     },
     "execution_count": 40,
     "metadata": {},
     "output_type": "execute_result"
    }
   ],
   "source": [
    "monNom = \"Julien\"\n",
    "age = 32\n",
    "nomLangage = \"Python\"\n",
    "\n",
    "str = f\"Je m'appelle {monNom} et j'ai {age} ans. J'apprends le langage {nomLangage}.\".format(monNom, age, nomLangage)\n",
    "str"
   ]
  },
  {
   "cell_type": "markdown",
   "id": "98b19c81",
   "metadata": {},
   "source": [
    "## Exercice 24 - Table de multiplication \"8 x\", i,\"=\", 8*i"
   ]
  },
  {
   "cell_type": "code",
   "execution_count": 45,
   "id": "192d4506",
   "metadata": {},
   "outputs": [
    {
     "name": "stdout",
     "output_type": "stream",
     "text": [
      "8 x 0 = 0\n",
      "8 x 1 = 8\n",
      "8 x 2 = 16\n",
      "8 x 3 = 24\n",
      "8 x 4 = 32\n",
      "8 x 5 = 40\n",
      "8 x 6 = 48\n",
      "8 x 7 = 56\n",
      "8 x 8 = 64\n",
      "8 x 9 = 72\n",
      "8 x 10 = 80\n"
     ]
    }
   ],
   "source": [
    "for i in range(0,11):    \n",
    "    print(\"8 x\", i,\"=\", 8*i)"
   ]
  },
  {
   "cell_type": "markdown",
   "id": "64b0b8aa",
   "metadata": {},
   "source": [
    "## Exercice 25 - os & getcwd()"
   ]
  },
  {
   "cell_type": "code",
   "execution_count": 46,
   "id": "9ef90f54",
   "metadata": {},
   "outputs": [
    {
     "name": "stdout",
     "output_type": "stream",
     "text": [
      "C:\\Users\\huyen\n"
     ]
    }
   ],
   "source": [
    "# os = operating system/ système d'exploitation & getcwd = get current working directory/obtenir le répertoire de travail actuel\n",
    "\n",
    "# le module \"os\" permet de manipuler les fichiers et répertoires, gérer les processus\n",
    "import os\n",
    "print(os.getcwd())"
   ]
  }
 ],
 "metadata": {
  "kernelspec": {
   "display_name": "Python 3 (ipykernel)",
   "language": "python",
   "name": "python3"
  },
  "language_info": {
   "codemirror_mode": {
    "name": "ipython",
    "version": 3
   },
   "file_extension": ".py",
   "mimetype": "text/x-python",
   "name": "python",
   "nbconvert_exporter": "python",
   "pygments_lexer": "ipython3",
   "version": "3.11.5"
  }
 },
 "nbformat": 4,
 "nbformat_minor": 5
}
